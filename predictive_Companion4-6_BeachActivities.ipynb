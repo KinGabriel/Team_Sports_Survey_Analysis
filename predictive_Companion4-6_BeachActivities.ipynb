{
 "cells": [
  {
   "cell_type": "code",
   "id": "initial_id",
   "metadata": {
    "ExecuteTime": {
     "end_time": "2025-03-05T18:57:05.108510Z",
     "start_time": "2025-03-05T18:57:04.498029Z"
    }
   },
   "source": [
    "import pandas as pd\n",
    "from mlxtend.frequent_patterns import apriori, association_rules\n",
    "data = pd.read_csv(\"Team_Sports_Survey_Preprocessed.csv\")"
   ],
   "outputs": [],
   "execution_count": 1
  },
  {
   "cell_type": "code",
   "id": "4e6abc55ba2b0686",
   "metadata": {
    "ExecuteTime": {
     "end_time": "2025-03-05T18:57:05.117021Z",
     "start_time": "2025-03-05T18:57:05.113517Z"
    }
   },
   "source": [
    "# Get the rows which Number of Companions is 4-6\n",
    "companion = data[data[\"Number of Companions\"] == \"4-6\"]"
   ],
   "outputs": [],
   "execution_count": 2
  },
  {
   "cell_type": "code",
   "id": "247703bd1d497d18",
   "metadata": {
    "ExecuteTime": {
     "end_time": "2025-03-05T18:57:05.212736Z",
     "start_time": "2025-03-05T18:57:05.197729Z"
    }
   },
   "source": [
    "# Split the values into a single items\n",
    "companion[\"Preferred Beach Activities\"] = companion[\"Preferred Beach Activities\"].str.split(\",\")\n",
    "\n",
    "# Convert the items into a transactional data \n",
    "transactions = companion[\"Preferred Beach Activities\"].explode().str.strip().reset_index()\n",
    "transactions_encoded = transactions.pivot_table(index=\"index\", columns=\"Preferred Beach Activities\", aggfunc=lambda x: 1, fill_value=0) "
   ],
   "outputs": [
    {
     "name": "stderr",
     "output_type": "stream",
     "text": [
      "C:\\Users\\joaqu\\AppData\\Local\\Temp\\ipykernel_18516\\1179435605.py:2: SettingWithCopyWarning: \n",
      "A value is trying to be set on a copy of a slice from a DataFrame.\n",
      "Try using .loc[row_indexer,col_indexer] = value instead\n",
      "\n",
      "See the caveats in the documentation: https://pandas.pydata.org/pandas-docs/stable/user_guide/indexing.html#returning-a-view-versus-a-copy\n",
      "  companion[\"Preferred Beach Activities\"] = companion[\"Preferred Beach Activities\"].str.split(\",\")\n"
     ]
    }
   ],
   "execution_count": 3
  },
  {
   "cell_type": "code",
   "id": "11c674c4a8b048ab",
   "metadata": {
    "ExecuteTime": {
     "end_time": "2025-03-05T18:57:05.257607Z",
     "start_time": "2025-03-05T18:57:05.233532Z"
    }
   },
   "source": [
    "# Use Apriori algorithm to find frequent association\n",
    "frequent_items= apriori(transactions_encoded, min_support=0.2, use_colnames=True) # threshold 20%\n",
    "rule = association_rules(frequent_items)\n",
    "rule[['antecedents','consequents','support', 'confidence', 'lift']].sort_values(\"confidence\", ascending=False)"
   ],
   "outputs": [
    {
     "name": "stderr",
     "output_type": "stream",
     "text": [
      "C:\\Users\\joaqu\\anaconda3\\Lib\\site-packages\\mlxtend\\frequent_patterns\\fpcommon.py:161: DeprecationWarning: DataFrames with non-bool types result in worse computationalperformance and their support might be discontinued in the future.Please use a DataFrame with bool type\n",
      "  warnings.warn(\n"
     ]
    },
    {
     "data": {
      "text/plain": [
       "                                    antecedents  \\\n",
       "5                     (Jetskiing, Surfboarding)   \n",
       "6             (Kayaking/Paddling, Surfboarding)   \n",
       "0                                (Surfboarding)   \n",
       "1                                (Surfboarding)   \n",
       "3                          (Jetskiing, Fishing)   \n",
       "4                  (Kayaking/Paddling, Fishing)   \n",
       "7                                (Surfboarding)   \n",
       "2  (Kayaking/Paddling, Snorkeling/Scuba Diving)   \n",
       "\n",
       "                      consequents   support  confidence      lift  \n",
       "5             (Kayaking/Paddling)  0.225806       1.000  1.937500  \n",
       "6                     (Jetskiing)  0.225806       1.000  2.384615  \n",
       "0                     (Jetskiing)  0.225806       0.875  2.086538  \n",
       "1             (Kayaking/Paddling)  0.225806       0.875  1.695312  \n",
       "3             (Kayaking/Paddling)  0.225806       0.875  1.695312  \n",
       "4                     (Jetskiing)  0.225806       0.875  2.086538  \n",
       "7  (Jetskiing, Kayaking/Paddling)  0.225806       0.875  2.712500  \n",
       "2                (Beach Swimming)  0.258065       0.800  0.992000  "
      ],
      "text/html": [
       "<div>\n",
       "<style scoped>\n",
       "    .dataframe tbody tr th:only-of-type {\n",
       "        vertical-align: middle;\n",
       "    }\n",
       "\n",
       "    .dataframe tbody tr th {\n",
       "        vertical-align: top;\n",
       "    }\n",
       "\n",
       "    .dataframe thead th {\n",
       "        text-align: right;\n",
       "    }\n",
       "</style>\n",
       "<table border=\"1\" class=\"dataframe\">\n",
       "  <thead>\n",
       "    <tr style=\"text-align: right;\">\n",
       "      <th></th>\n",
       "      <th>antecedents</th>\n",
       "      <th>consequents</th>\n",
       "      <th>support</th>\n",
       "      <th>confidence</th>\n",
       "      <th>lift</th>\n",
       "    </tr>\n",
       "  </thead>\n",
       "  <tbody>\n",
       "    <tr>\n",
       "      <th>5</th>\n",
       "      <td>(Jetskiing, Surfboarding)</td>\n",
       "      <td>(Kayaking/Paddling)</td>\n",
       "      <td>0.225806</td>\n",
       "      <td>1.000</td>\n",
       "      <td>1.937500</td>\n",
       "    </tr>\n",
       "    <tr>\n",
       "      <th>6</th>\n",
       "      <td>(Kayaking/Paddling, Surfboarding)</td>\n",
       "      <td>(Jetskiing)</td>\n",
       "      <td>0.225806</td>\n",
       "      <td>1.000</td>\n",
       "      <td>2.384615</td>\n",
       "    </tr>\n",
       "    <tr>\n",
       "      <th>0</th>\n",
       "      <td>(Surfboarding)</td>\n",
       "      <td>(Jetskiing)</td>\n",
       "      <td>0.225806</td>\n",
       "      <td>0.875</td>\n",
       "      <td>2.086538</td>\n",
       "    </tr>\n",
       "    <tr>\n",
       "      <th>1</th>\n",
       "      <td>(Surfboarding)</td>\n",
       "      <td>(Kayaking/Paddling)</td>\n",
       "      <td>0.225806</td>\n",
       "      <td>0.875</td>\n",
       "      <td>1.695312</td>\n",
       "    </tr>\n",
       "    <tr>\n",
       "      <th>3</th>\n",
       "      <td>(Jetskiing, Fishing)</td>\n",
       "      <td>(Kayaking/Paddling)</td>\n",
       "      <td>0.225806</td>\n",
       "      <td>0.875</td>\n",
       "      <td>1.695312</td>\n",
       "    </tr>\n",
       "    <tr>\n",
       "      <th>4</th>\n",
       "      <td>(Kayaking/Paddling, Fishing)</td>\n",
       "      <td>(Jetskiing)</td>\n",
       "      <td>0.225806</td>\n",
       "      <td>0.875</td>\n",
       "      <td>2.086538</td>\n",
       "    </tr>\n",
       "    <tr>\n",
       "      <th>7</th>\n",
       "      <td>(Surfboarding)</td>\n",
       "      <td>(Jetskiing, Kayaking/Paddling)</td>\n",
       "      <td>0.225806</td>\n",
       "      <td>0.875</td>\n",
       "      <td>2.712500</td>\n",
       "    </tr>\n",
       "    <tr>\n",
       "      <th>2</th>\n",
       "      <td>(Kayaking/Paddling, Snorkeling/Scuba Diving)</td>\n",
       "      <td>(Beach Swimming)</td>\n",
       "      <td>0.258065</td>\n",
       "      <td>0.800</td>\n",
       "      <td>0.992000</td>\n",
       "    </tr>\n",
       "  </tbody>\n",
       "</table>\n",
       "</div>"
      ]
     },
     "execution_count": 4,
     "metadata": {},
     "output_type": "execute_result"
    }
   ],
   "execution_count": 4
  },
  {
   "cell_type": "code",
   "id": "d0534e41-3728-4648-8838-619dcfdc7f53",
   "metadata": {
    "ExecuteTime": {
     "end_time": "2025-03-05T18:57:05.319903Z",
     "start_time": "2025-03-05T18:57:05.316892Z"
    }
   },
   "source": [],
   "outputs": [],
   "execution_count": null
  }
 ],
 "metadata": {
  "kernelspec": {
   "display_name": "Python [conda env:base] *",
   "language": "python",
   "name": "conda-base-py"
  },
  "language_info": {
   "codemirror_mode": {
    "name": "ipython",
    "version": 3
   },
   "file_extension": ".py",
   "mimetype": "text/x-python",
   "name": "python",
   "nbconvert_exporter": "python",
   "pygments_lexer": "ipython3",
   "version": "3.12.7"
  }
 },
 "nbformat": 4,
 "nbformat_minor": 5
}
