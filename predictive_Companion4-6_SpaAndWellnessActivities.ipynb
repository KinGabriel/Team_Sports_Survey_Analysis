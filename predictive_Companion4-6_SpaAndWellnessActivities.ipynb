{
 "cells": [
  {
   "cell_type": "code",
   "id": "initial_id",
   "metadata": {
    "collapsed": true,
    "jupyter": {
     "is_executing": true
    }
   },
   "source": [
    "import pandas as pd\n",
    "import re\n",
    "from mlxtend.frequent_patterns import apriori, association_rules\n",
    "data = pd.read_csv(\"Team_Sports_Survey_Preprocessed.csv\")\n",
    "# remove the eg. for each items\n",
    "def remove_parentheses(text):\n",
    "    if isinstance(text, str):\n",
    "        return re.sub(r\"\\s*\\(.*?\\)\", \"\", text)\n",
    "    return text"
   ],
   "outputs": [],
   "execution_count": null
  },
  {
   "metadata": {
    "jupyter": {
     "is_executing": true
    }
   },
   "cell_type": "code",
   "source": [
    "# Get the rows which Number of Companions is 4-6\n",
    "companion = data[data[\"Number of Companions\"] == \"4-6\"]"
   ],
   "id": "4c2a8b604666c1bc",
   "outputs": [],
   "execution_count": null
  },
  {
   "metadata": {
    "ExecuteTime": {
     "end_time": "2025-03-05T16:08:26.770478Z",
     "start_time": "2025-03-05T16:08:26.758960Z"
    }
   },
   "cell_type": "code",
   "source": [
    "# Split the values into a single items\n",
    "companion[\"Preferred Spa and Wellness Activities\"] = companion[\"Preferred Spa and Wellness Activities\"].apply(remove_parentheses).str.split(\",\")\n",
    "\n",
    "# Convert the items into a transactional data\n",
    "transactions = companion[\"Preferred Spa and Wellness Activities\"].explode().str.strip().reset_index()\n",
    "transactions_encoded = transactions.pivot_table(index=\"index\", columns=\"Preferred Spa and Wellness Activities\", aggfunc=lambda x: 1, fill_value=0)"
   ],
   "id": "5696e0e500b87b30",
   "outputs": [
    {
     "name": "stderr",
     "output_type": "stream",
     "text": [
      "C:\\Users\\NJ\\AppData\\Local\\Temp\\ipykernel_11976\\586481822.py:2: SettingWithCopyWarning: \n",
      "A value is trying to be set on a copy of a slice from a DataFrame.\n",
      "Try using .loc[row_indexer,col_indexer] = value instead\n",
      "\n",
      "See the caveats in the documentation: https://pandas.pydata.org/pandas-docs/stable/user_guide/indexing.html#returning-a-view-versus-a-copy\n",
      "  companion[\"Preferred Spa and Wellness Activities\"] = companion[\"Preferred Spa and Wellness Activities\"].apply(remove_parentheses).str.split(\",\")\n"
     ]
    }
   ],
   "execution_count": 3
  },
  {
   "metadata": {
    "ExecuteTime": {
     "end_time": "2025-03-05T16:08:26.799936Z",
     "start_time": "2025-03-05T16:08:26.783683Z"
    }
   },
   "cell_type": "code",
   "source": [
    "# Use Apriori algorithm to find frequent association\n",
    "frequent_items= apriori(transactions_encoded, min_support=0.3, use_colnames=True)# threshold 30%\n",
    "rule = association_rules(frequent_items)\n",
    "rule[['antecedents','consequents','support', 'confidence', 'lift']].sort_values(\"confidence\", ascending=False)"
   ],
   "id": "a2c746c61cbc0e50",
   "outputs": [
    {
     "name": "stderr",
     "output_type": "stream",
     "text": [
      "C:\\Users\\NJ\\AppData\\Local\\Programs\\Python\\Python312\\Lib\\site-packages\\mlxtend\\frequent_patterns\\fpcommon.py:161: DeprecationWarning: DataFrames with non-bool types result in worse computationalperformance and their support might be discontinued in the future.Please use a DataFrame with bool type\n",
      "  warnings.warn(\n"
     ]
    },
    {
     "data": {
      "text/plain": [
       "                                antecedents        consequents  support  \\\n",
       "1                           (Spa Treatment)  (Massage Therapy)  0.65625   \n",
       "2    (Sauna and Steam Rooms, Spa Treatment)  (Massage Therapy)  0.46875   \n",
       "0                   (Sauna and Steam Rooms)  (Massage Therapy)  0.56250   \n",
       "3  (Sauna and Steam Rooms, Massage Therapy)    (Spa Treatment)  0.46875   \n",
       "\n",
       "   confidence      lift  \n",
       "1    0.954545  1.053292  \n",
       "2    0.937500  1.034483  \n",
       "0    0.857143  0.945813  \n",
       "3    0.833333  1.212121  "
      ],
      "text/html": [
       "<div>\n",
       "<style scoped>\n",
       "    .dataframe tbody tr th:only-of-type {\n",
       "        vertical-align: middle;\n",
       "    }\n",
       "\n",
       "    .dataframe tbody tr th {\n",
       "        vertical-align: top;\n",
       "    }\n",
       "\n",
       "    .dataframe thead th {\n",
       "        text-align: right;\n",
       "    }\n",
       "</style>\n",
       "<table border=\"1\" class=\"dataframe\">\n",
       "  <thead>\n",
       "    <tr style=\"text-align: right;\">\n",
       "      <th></th>\n",
       "      <th>antecedents</th>\n",
       "      <th>consequents</th>\n",
       "      <th>support</th>\n",
       "      <th>confidence</th>\n",
       "      <th>lift</th>\n",
       "    </tr>\n",
       "  </thead>\n",
       "  <tbody>\n",
       "    <tr>\n",
       "      <th>1</th>\n",
       "      <td>(Spa Treatment)</td>\n",
       "      <td>(Massage Therapy)</td>\n",
       "      <td>0.65625</td>\n",
       "      <td>0.954545</td>\n",
       "      <td>1.053292</td>\n",
       "    </tr>\n",
       "    <tr>\n",
       "      <th>2</th>\n",
       "      <td>(Sauna and Steam Rooms, Spa Treatment)</td>\n",
       "      <td>(Massage Therapy)</td>\n",
       "      <td>0.46875</td>\n",
       "      <td>0.937500</td>\n",
       "      <td>1.034483</td>\n",
       "    </tr>\n",
       "    <tr>\n",
       "      <th>0</th>\n",
       "      <td>(Sauna and Steam Rooms)</td>\n",
       "      <td>(Massage Therapy)</td>\n",
       "      <td>0.56250</td>\n",
       "      <td>0.857143</td>\n",
       "      <td>0.945813</td>\n",
       "    </tr>\n",
       "    <tr>\n",
       "      <th>3</th>\n",
       "      <td>(Sauna and Steam Rooms, Massage Therapy)</td>\n",
       "      <td>(Spa Treatment)</td>\n",
       "      <td>0.46875</td>\n",
       "      <td>0.833333</td>\n",
       "      <td>1.212121</td>\n",
       "    </tr>\n",
       "  </tbody>\n",
       "</table>\n",
       "</div>"
      ]
     },
     "execution_count": 4,
     "metadata": {},
     "output_type": "execute_result"
    }
   ],
   "execution_count": 4
  }
 ],
 "metadata": {
  "kernelspec": {
   "display_name": "Python 3",
   "language": "python",
   "name": "python3"
  },
  "language_info": {
   "codemirror_mode": {
    "name": "ipython",
    "version": 2
   },
   "file_extension": ".py",
   "mimetype": "text/x-python",
   "name": "python",
   "nbconvert_exporter": "python",
   "pygments_lexer": "ipython2",
   "version": "2.7.6"
  }
 },
 "nbformat": 4,
 "nbformat_minor": 5
}
