{
 "cells": [
  {
   "cell_type": "code",
   "id": "initial_id",
   "metadata": {
    "collapsed": true,
    "ExecuteTime": {
     "end_time": "2025-03-05T16:00:39.657610Z",
     "start_time": "2025-03-05T16:00:39.650569Z"
    }
   },
   "source": [
    "import pandas as pd\n",
    "import re\n",
    "from mlxtend.frequent_patterns import apriori, association_rules\n",
    "data = pd.read_csv(\"Team_Sports_Survey_Preprocessed.csv\")\n",
    "# remove the eg. for each items\n",
    "def remove_parentheses(text):\n",
    "    if isinstance(text, str):\n",
    "        return re.sub(r\"\\s*\\(.*?\\)\", \"\", text)\n",
    "    return text\n"
   ],
   "outputs": [],
   "execution_count": 5
  },
  {
   "metadata": {
    "ExecuteTime": {
     "end_time": "2025-03-05T16:00:39.672260Z",
     "start_time": "2025-03-05T16:00:39.667259Z"
    }
   },
   "cell_type": "code",
   "source": [
    "# Get the rows which preferred time is Afternoon\n",
    "# Split the values into a single items in the \"Preferred Check-in Days\" column\n",
    "data[\"Preferred Time for Swimming Pool Activities\"] = data[\"Preferred Time for Swimming Pool Activities\"].str.split(\", \")\n",
    "# Get only rows where Saturday or Sunday is in the dataset\n",
    "time_data = data[data[\"Preferred Time for Swimming Pool Activities\"].apply(lambda x: any(time in [\"Morning (5AM-11AM)\"] for time in x))]"
   ],
   "id": "72fa463b92c19b56",
   "outputs": [],
   "execution_count": 6
  },
  {
   "metadata": {
    "ExecuteTime": {
     "end_time": "2025-03-05T16:00:39.712343Z",
     "start_time": "2025-03-05T16:00:39.703962Z"
    }
   },
   "cell_type": "code",
   "source": [
    "# Split the values into a single items\n",
    "time_data[\"Preferred Swimming Pool Activities\"] = time_data[\"Preferred Swimming Pool Activities\"].apply(remove_parentheses).str.split(\", \")\n",
    "\n",
    "# Convert the items into a transactional data\n",
    "transactions = time_data[\"Preferred Swimming Pool Activities\"].explode().str.strip().reset_index()\n",
    "transactions_encoded = transactions.pivot_table(index=\"index\", columns=\"Preferred Swimming Pool Activities\", aggfunc=lambda x: 1, fill_value=0)"
   ],
   "id": "78f4ef4ed70fdc16",
   "outputs": [
    {
     "name": "stderr",
     "output_type": "stream",
     "text": [
      "C:\\Users\\NJ\\AppData\\Local\\Temp\\ipykernel_21564\\1670183251.py:2: SettingWithCopyWarning: \n",
      "A value is trying to be set on a copy of a slice from a DataFrame.\n",
      "Try using .loc[row_indexer,col_indexer] = value instead\n",
      "\n",
      "See the caveats in the documentation: https://pandas.pydata.org/pandas-docs/stable/user_guide/indexing.html#returning-a-view-versus-a-copy\n",
      "  time_data[\"Preferred Swimming Pool Activities\"] = time_data[\"Preferred Swimming Pool Activities\"].apply(remove_parentheses).str.split(\", \")\n"
     ]
    }
   ],
   "execution_count": 7
  },
  {
   "metadata": {
    "ExecuteTime": {
     "end_time": "2025-03-05T16:00:39.729245Z",
     "start_time": "2025-03-05T16:00:39.718349Z"
    }
   },
   "cell_type": "code",
   "source": [
    "# Use Apriori algorithm to find frequent association\n",
    "frequent_items= apriori(transactions_encoded, min_support=0.2, use_colnames=True)\n",
    "rule = association_rules(frequent_items)\n",
    "rule[['antecedents','consequents','support', 'confidence', 'lift']].sort_values(\"confidence\", ascending=False)"
   ],
   "id": "b137a45d0e2d343b",
   "outputs": [
    {
     "name": "stderr",
     "output_type": "stream",
     "text": [
      "C:\\Users\\NJ\\AppData\\Local\\Programs\\Python\\Python312\\Lib\\site-packages\\mlxtend\\frequent_patterns\\fpcommon.py:161: DeprecationWarning: DataFrames with non-bool types result in worse computationalperformance and their support might be discontinued in the future.Please use a DataFrame with bool type\n",
      "  warnings.warn(\n"
     ]
    },
    {
     "data": {
      "text/plain": [
       "                                         antecedents         consequents  \\\n",
       "0                              (Play with Pool Toys)  (Relaxing in Pool)   \n",
       "1  (Play with Pool Toys, Practice Actual Swimming...  (Relaxing in Pool)   \n",
       "\n",
       "    support  confidence      lift  \n",
       "0  0.384615      0.9375  1.075368  \n",
       "1  0.230769      0.9000  1.032353  "
      ],
      "text/html": [
       "<div>\n",
       "<style scoped>\n",
       "    .dataframe tbody tr th:only-of-type {\n",
       "        vertical-align: middle;\n",
       "    }\n",
       "\n",
       "    .dataframe tbody tr th {\n",
       "        vertical-align: top;\n",
       "    }\n",
       "\n",
       "    .dataframe thead th {\n",
       "        text-align: right;\n",
       "    }\n",
       "</style>\n",
       "<table border=\"1\" class=\"dataframe\">\n",
       "  <thead>\n",
       "    <tr style=\"text-align: right;\">\n",
       "      <th></th>\n",
       "      <th>antecedents</th>\n",
       "      <th>consequents</th>\n",
       "      <th>support</th>\n",
       "      <th>confidence</th>\n",
       "      <th>lift</th>\n",
       "    </tr>\n",
       "  </thead>\n",
       "  <tbody>\n",
       "    <tr>\n",
       "      <th>0</th>\n",
       "      <td>(Play with Pool Toys)</td>\n",
       "      <td>(Relaxing in Pool)</td>\n",
       "      <td>0.384615</td>\n",
       "      <td>0.9375</td>\n",
       "      <td>1.075368</td>\n",
       "    </tr>\n",
       "    <tr>\n",
       "      <th>1</th>\n",
       "      <td>(Play with Pool Toys, Practice Actual Swimming...</td>\n",
       "      <td>(Relaxing in Pool)</td>\n",
       "      <td>0.230769</td>\n",
       "      <td>0.9000</td>\n",
       "      <td>1.032353</td>\n",
       "    </tr>\n",
       "  </tbody>\n",
       "</table>\n",
       "</div>"
      ]
     },
     "execution_count": 8,
     "metadata": {},
     "output_type": "execute_result"
    }
   ],
   "execution_count": 8
  }
 ],
 "metadata": {
  "kernelspec": {
   "display_name": "Python 3",
   "language": "python",
   "name": "python3"
  },
  "language_info": {
   "codemirror_mode": {
    "name": "ipython",
    "version": 2
   },
   "file_extension": ".py",
   "mimetype": "text/x-python",
   "name": "python",
   "nbconvert_exporter": "python",
   "pygments_lexer": "ipython2",
   "version": "2.7.6"
  }
 },
 "nbformat": 4,
 "nbformat_minor": 5
}
