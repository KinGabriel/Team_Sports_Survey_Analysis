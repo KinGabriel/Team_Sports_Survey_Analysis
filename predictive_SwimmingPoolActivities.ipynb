{
 "cells": [
  {
   "cell_type": "code",
   "id": "initial_id",
   "metadata": {
    "ExecuteTime": {
     "end_time": "2025-03-05T16:46:10.408474Z",
     "start_time": "2025-03-05T16:46:09.704361Z"
    }
   },
   "source": [
    "import pandas as pd\n",
    "import re\n",
    "from mlxtend.frequent_patterns import apriori, association_rules\n",
    "data = pd.read_csv(\"Team_Sports_Survey_Preprocessed.csv\")\n",
    "# remove the eg. for each items\n",
    "def remove_parentheses(text):\n",
    "    if isinstance(text, str):  \n",
    "        return re.sub(r\"\\s*\\(.*?\\)\", \"\", text)\n",
    "    return text  "
   ],
   "outputs": [],
   "execution_count": 1
  },
  {
   "cell_type": "code",
   "id": "91ee7d8f1f55725",
   "metadata": {
    "ExecuteTime": {
     "end_time": "2025-03-05T16:46:10.434828Z",
     "start_time": "2025-03-05T16:46:10.415919Z"
    }
   },
   "source": [
    "# Split the values into a single items\n",
    "data[\"Preferred Swimming Pool Activities\"] =data[\"Preferred Swimming Pool Activities\"].apply(remove_parentheses).str.split(\",\")  \n",
    "\n",
    "# Convert the items into a transactional data \n",
    "transactions = data[\"Preferred Swimming Pool Activities\"].explode().str.strip().reset_index() \n",
    "transactions_encoded = transactions.pivot_table(index=\"index\", columns=\"Preferred Swimming Pool Activities\", aggfunc=lambda x: 1, fill_value=0) "
   ],
   "outputs": [],
   "execution_count": 2
  },
  {
   "cell_type": "code",
   "id": "11c674c4a8b048ab",
   "metadata": {
    "ExecuteTime": {
     "end_time": "2025-03-05T16:46:10.562720Z",
     "start_time": "2025-03-05T16:46:10.536655Z"
    }
   },
   "source": [
    "# Use Apriori algorithm to find frequent association\n",
    "frequent_items= apriori(transactions_encoded, min_support=0.3, use_colnames=True)# threshold 30%\n",
    "rule = association_rules(frequent_items)\n",
    "rule[['antecedents','consequents','support', 'confidence', 'lift']].sort_values(\"confidence\", ascending=False)"
   ],
   "outputs": [
    {
     "name": "stderr",
     "output_type": "stream",
     "text": [
      "C:\\Users\\joaqu\\anaconda3\\Lib\\site-packages\\mlxtend\\frequent_patterns\\fpcommon.py:161: DeprecationWarning: DataFrames with non-bool types result in worse computationalperformance and their support might be discontinued in the future.Please use a DataFrame with bool type\n",
      "  warnings.warn(\n"
     ]
    },
    {
     "data": {
      "text/plain": [
       "                             antecedents         consequents   support  \\\n",
       "0                  (Play with Pool Toys)  (Relaxing in Pool)  0.379310   \n",
       "1  (Practice Actual Swimming Techniques)  (Relaxing in Pool)  0.436782   \n",
       "\n",
       "   confidence      lift  \n",
       "0    0.942857  1.051648  \n",
       "1    0.826087  0.921405  "
      ],
      "text/html": [
       "<div>\n",
       "<style scoped>\n",
       "    .dataframe tbody tr th:only-of-type {\n",
       "        vertical-align: middle;\n",
       "    }\n",
       "\n",
       "    .dataframe tbody tr th {\n",
       "        vertical-align: top;\n",
       "    }\n",
       "\n",
       "    .dataframe thead th {\n",
       "        text-align: right;\n",
       "    }\n",
       "</style>\n",
       "<table border=\"1\" class=\"dataframe\">\n",
       "  <thead>\n",
       "    <tr style=\"text-align: right;\">\n",
       "      <th></th>\n",
       "      <th>antecedents</th>\n",
       "      <th>consequents</th>\n",
       "      <th>support</th>\n",
       "      <th>confidence</th>\n",
       "      <th>lift</th>\n",
       "    </tr>\n",
       "  </thead>\n",
       "  <tbody>\n",
       "    <tr>\n",
       "      <th>0</th>\n",
       "      <td>(Play with Pool Toys)</td>\n",
       "      <td>(Relaxing in Pool)</td>\n",
       "      <td>0.379310</td>\n",
       "      <td>0.942857</td>\n",
       "      <td>1.051648</td>\n",
       "    </tr>\n",
       "    <tr>\n",
       "      <th>1</th>\n",
       "      <td>(Practice Actual Swimming Techniques)</td>\n",
       "      <td>(Relaxing in Pool)</td>\n",
       "      <td>0.436782</td>\n",
       "      <td>0.826087</td>\n",
       "      <td>0.921405</td>\n",
       "    </tr>\n",
       "  </tbody>\n",
       "</table>\n",
       "</div>"
      ]
     },
     "execution_count": 3,
     "metadata": {},
     "output_type": "execute_result"
    }
   ],
   "execution_count": 3
  },
  {
   "cell_type": "code",
   "id": "d0534e41-3728-4648-8838-619dcfdc7f53",
   "metadata": {
    "ExecuteTime": {
     "end_time": "2025-03-05T16:46:10.680652Z",
     "start_time": "2025-03-05T16:46:10.677645Z"
    }
   },
   "source": [],
   "outputs": [],
   "execution_count": null
  },
  {
   "cell_type": "code",
   "id": "90ba3117-700a-4d1f-bddb-a37fd9e8c6ed",
   "metadata": {
    "ExecuteTime": {
     "end_time": "2025-03-05T16:46:10.769491Z",
     "start_time": "2025-03-05T16:46:10.766492Z"
    }
   },
   "source": [],
   "outputs": [],
   "execution_count": null
  }
 ],
 "metadata": {
  "kernelspec": {
   "display_name": "Python [conda env:base] *",
   "language": "python",
   "name": "conda-base-py"
  },
  "language_info": {
   "codemirror_mode": {
    "name": "ipython",
    "version": 3
   },
   "file_extension": ".py",
   "mimetype": "text/x-python",
   "name": "python",
   "nbconvert_exporter": "python",
   "pygments_lexer": "ipython3",
   "version": "3.12.7"
  }
 },
 "nbformat": 4,
 "nbformat_minor": 5
}
