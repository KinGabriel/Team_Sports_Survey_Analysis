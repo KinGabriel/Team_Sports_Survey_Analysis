{
 "cells": [
  {
   "metadata": {},
   "cell_type": "code",
   "outputs": [],
   "execution_count": null,
   "source": [
    "import pandas as pd\n",
    "import re\n",
    "from mlxtend.frequent_patterns import apriori, association_rules\n",
    "data = pd.read_csv(\"Team_Sports_Survey_Preprocessed.csv\")\n",
    "# remove the eg. for each items\n",
    "def remove_parentheses(text):\n",
    "    if isinstance(text, str):\n",
    "        return re.sub(r\"\\s*\\(.*?\\)\", \"\", text)\n",
    "    return text"
   ],
   "id": "a9a93d061744a5e5"
  },
  {
   "metadata": {},
   "cell_type": "markdown",
   "source": "",
   "id": "ea4a79ea07839d8d"
  },
  {
   "metadata": {},
   "cell_type": "code",
   "outputs": [],
   "execution_count": null,
   "source": [
    "# Get the rows which preferred days is weekend\n",
    "# Split the values into a single items in the \"Preferred Check-in Days\" column\n",
    "data[\"Preferred Check-in Days\"] = data[\"Preferred Check-in Days\"].str.split(\", \")\n",
    "# Get only rows where Saturday or Sunday is in the dataset\n",
    "weekend_data = data[data[\"Preferred Check-in Days\"].apply(lambda x: any(day in [\"Saturday\", \"Sunday\"] for day in x))]"
   ],
   "id": "766b1f2e47a2b86d"
  },
  {
   "metadata": {},
   "cell_type": "code",
   "outputs": [],
   "execution_count": null,
   "source": [
    "# Split the values into a single items\n",
    "weekend_data[\"Preferred Swimming Pool Activities\"] = weekend_data[\"Preferred Swimming Pool Activities\"].apply(remove_parentheses).str.split(\", \")\n",
    "# Convert the items into a transactional data\n",
    "transactions = weekend_data[\"Preferred Swimming Pool Activities\"].explode().str.strip().reset_index()\n",
    "transactions_encoded = transactions.pivot_table(index=\"index\", columns=\"Preferred Swimming Pool Activities\", aggfunc=lambda x: 1, fill_value=0)"
   ],
   "id": "88321687123a453f"
  },
  {
   "metadata": {},
   "cell_type": "code",
   "outputs": [],
   "execution_count": null,
   "source": [
    "# Use Apriori algorithm to find frequent association\n",
    "frequent_items= apriori(transactions_encoded, min_support=0.3, use_colnames=True)# threshold 30%\n",
    "rule = association_rules(frequent_items)\n",
    "rule[['antecedents','consequents','support', 'confidence', 'lift']].sort_values(\"confidence\", ascending=False)"
   ],
   "id": "e14f2b719d67dfe9"
  }
 ],
 "metadata": {},
 "nbformat": 5,
 "nbformat_minor": 9
}
