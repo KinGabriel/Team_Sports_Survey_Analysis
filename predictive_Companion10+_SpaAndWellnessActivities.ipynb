{
 "cells": [
  {
   "cell_type": "code",
   "id": "initial_id",
   "metadata": {
    "collapsed": true,
    "jupyter": {
     "is_executing": true
    }
   },
   "source": [
    "import pandas as pd\n",
    "import re\n",
    "from mlxtend.frequent_patterns import apriori, association_rules\n",
    "data = pd.read_csv(\"Team_Sports_Survey_Preprocessed.csv\")\n",
    "# remove the eg. for each items\n",
    "def remove_parentheses(text):\n",
    "    if isinstance(text, str):\n",
    "        return re.sub(r\"\\s*\\(.*?\\)\", \"\", text)\n",
    "    return text"
   ],
   "outputs": [],
   "execution_count": null
  },
  {
   "metadata": {
    "jupyter": {
     "is_executing": true
    }
   },
   "cell_type": "code",
   "source": [
    "# Get the rows which Number of Companions is 10+\n",
    "companion = data[data[\"Number of Companions\"] == \"10+\"]"
   ],
   "id": "4c2a8b604666c1bc",
   "outputs": [],
   "execution_count": null
  },
  {
   "metadata": {
    "jupyter": {
     "is_executing": true
    }
   },
   "cell_type": "code",
   "source": [
    "# Split the values into a single items\n",
    "companion[\"Preferred Spa and Wellness Activities\"] = companion[\"Preferred Spa and Wellness Activities\"].apply(remove_parentheses).str.split(\",\")\n",
    "\n",
    "# Convert the items into a transactional data\n",
    "transactions = companion[\"Preferred Spa and Wellness Activities\"].explode().str.strip().reset_index()\n",
    "transactions_encoded = transactions.pivot_table(index=\"index\", columns=\"Preferred Spa and Wellness Activities\", aggfunc=lambda x: 1, fill_value=0)"
   ],
   "id": "5696e0e500b87b30",
   "outputs": [],
   "execution_count": null
  },
  {
   "metadata": {
    "jupyter": {
     "is_executing": true
    }
   },
   "cell_type": "code",
   "source": [
    "# Use Apriori algorithm to find frequent association\n",
    "frequent_items= apriori(transactions_encoded, min_support=0.3, use_colnames=True) # threshold 30%\n",
    "rule = association_rules(frequent_items)\n",
    "rule[['antecedents','consequents','support', 'confidence', 'lift']].sort_values(\"confidence\", ascending=False)"
   ],
   "id": "a2c746c61cbc0e50",
   "outputs": [],
   "execution_count": null
  }
 ],
 "metadata": {
  "kernelspec": {
   "display_name": "Python 3",
   "language": "python",
   "name": "python3"
  },
  "language_info": {
   "codemirror_mode": {
    "name": "ipython",
    "version": 2
   },
   "file_extension": ".py",
   "mimetype": "text/x-python",
   "name": "python",
   "nbconvert_exporter": "python",
   "pygments_lexer": "ipython2",
   "version": "2.7.6"
  }
 },
 "nbformat": 4,
 "nbformat_minor": 5
}
