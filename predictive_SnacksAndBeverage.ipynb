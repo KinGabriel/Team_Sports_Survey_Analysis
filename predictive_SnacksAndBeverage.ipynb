{
 "cells": [
  {
   "cell_type": "code",
   "id": "initial_id",
   "metadata": {
    "ExecuteTime": {
     "end_time": "2025-03-05T15:58:52.123708Z",
     "start_time": "2025-03-05T15:58:51.538068Z"
    }
   },
   "source": [
    "import pandas as pd\n",
    "import re\n",
    "from mlxtend.frequent_patterns import apriori, association_rules\n",
    "data = pd.read_csv(\"Team_Sports_Survey_Preprocessed.csv\")\n",
    "# remove the eg. for each items\n",
    "def remove_parentheses(text):\n",
    "    if isinstance(text, str):  \n",
    "        return re.sub(r\"\\s*\\(.*?\\)\", \"\", text)\n",
    "    return text  "
   ],
   "outputs": [],
   "execution_count": 1
  },
  {
   "cell_type": "code",
   "id": "91ee7d8f1f55725",
   "metadata": {
    "ExecuteTime": {
     "end_time": "2025-03-05T15:58:52.208497Z",
     "start_time": "2025-03-05T15:58:52.172619Z"
    }
   },
   "source": [
    "# Split the values into a single items for the snacks and beverage column\n",
    "data[\"Preferred Snacks During Activities\"] = data[\"Preferred Snacks During Activities\"].apply(remove_parentheses).astype(str).str.split(\",\")\n",
    "data[\"Preferred Beverage During Activities\"] = data[\"Preferred Beverage During Activities\"].apply(remove_parentheses).astype(str).str.split(\",\")\n",
    "\n",
    "# Add category labels \"snack\"\n",
    "data[\"Preferred Snacks During Activities\"] = data[\"Preferred Snacks During Activities\"].apply(lambda x: [f\"Snack: {item.strip()}\" for item in x])\n",
    "# Add category labels \"Beverage\"\n",
    "data[\"Preferred Beverage During Activities\"] = data[\"Preferred Beverage During Activities\"].apply(lambda x: [f\"Beverage: {item.strip()}\" for item in x])\n",
    "\n",
    "# Combine snacks and beverages into a single column \n",
    "data[\"snack_beverage\"] = data[\"Preferred Snacks During Activities\"] + data[\"Preferred Beverage During Activities\"]\n",
    "\n",
    "# Convert the items into transactional data\n",
    "transactions = data[\"snack_beverage\"].explode().str.strip().reset_index()\n",
    "transactions_encoded = transactions.pivot_table(index=\"index\", columns=\"snack_beverage\", aggfunc=lambda x: 1, fill_value=0)\n"
   ],
   "outputs": [],
   "execution_count": 2
  },
  {
   "cell_type": "code",
   "id": "11c674c4a8b048ab",
   "metadata": {
    "ExecuteTime": {
     "end_time": "2025-03-05T15:58:52.815709Z",
     "start_time": "2025-03-05T15:58:52.788106Z"
    }
   },
   "source": [
    "# Use Apriori algorithm to find frequent association\n",
    "frequent_items = apriori(transactions_encoded, min_support=0.3, use_colnames=True)\n",
    "rules = association_rules(frequent_items, metric=\"confidence\", min_threshold=0.5)\n",
    "\n",
    "# Apply the rule where antecedents are snacks and consequents are beverages\n",
    "filtered_rules = rules[\n",
    "    rules['antecedents'].apply(lambda x: all(item.startswith(\"Snack:\") for item in x)) &\n",
    "    rules['consequents'].apply(lambda x: all(item.startswith(\"Beverage:\") for item in x))\n",
    "]\n",
    "\n",
    "# Display the final rules sorted by confidence\n",
    "filtered_rules[['antecedents', 'consequents', 'support', 'confidence', 'lift']].sort_values(\"confidence\", ascending=False)"
   ],
   "outputs": [
    {
     "name": "stderr",
     "output_type": "stream",
     "text": [
      "C:\\Users\\joaqu\\anaconda3\\Lib\\site-packages\\mlxtend\\frequent_patterns\\fpcommon.py:161: DeprecationWarning: DataFrames with non-bool types result in worse computationalperformance and their support might be discontinued in the future.Please use a DataFrame with bool type\n",
      "  warnings.warn(\n"
     ]
    },
    {
     "data": {
      "text/plain": [
       "                             antecedents  \\\n",
       "33  (Snack: Fast Food, Snack: Beverages)   \n",
       "7                     (Snack: Beverages)   \n",
       "8                     (Snack: Fast Food)   \n",
       "10              (Snack: Healthy Options)   \n",
       "27  (Snack: Fast Food, Snack: Beverages)   \n",
       "3                     (Snack: Beverages)   \n",
       "5                     (Snack: Fast Food)   \n",
       "45  (Snack: Fast Food, Snack: Beverages)   \n",
       "19                    (Snack: Beverages)   \n",
       "24                    (Snack: Fast Food)   \n",
       "\n",
       "                                   consequents  support  confidence      lift  \n",
       "33                           (Beverage: Water)     0.46    0.901961  1.202614  \n",
       "7                            (Beverage: Water)     0.64    0.888889  1.185185  \n",
       "8                            (Beverage: Water)     0.52    0.866667  1.155556  \n",
       "10                           (Beverage: Water)     0.30    0.833333  1.111111  \n",
       "27                   (Beverage: Non-Alcoholic)     0.36    0.705882  1.411765  \n",
       "3                    (Beverage: Non-Alcoholic)     0.47    0.652778  1.305556  \n",
       "5                    (Beverage: Non-Alcoholic)     0.38    0.633333  1.266667  \n",
       "45  (Beverage: Non-Alcoholic, Beverage: Water)     0.31    0.607843  1.482544  \n",
       "19  (Beverage: Non-Alcoholic, Beverage: Water)     0.40    0.555556  1.355014  \n",
       "24  (Beverage: Non-Alcoholic, Beverage: Water)     0.32    0.533333  1.300813  "
      ],
      "text/html": [
       "<div>\n",
       "<style scoped>\n",
       "    .dataframe tbody tr th:only-of-type {\n",
       "        vertical-align: middle;\n",
       "    }\n",
       "\n",
       "    .dataframe tbody tr th {\n",
       "        vertical-align: top;\n",
       "    }\n",
       "\n",
       "    .dataframe thead th {\n",
       "        text-align: right;\n",
       "    }\n",
       "</style>\n",
       "<table border=\"1\" class=\"dataframe\">\n",
       "  <thead>\n",
       "    <tr style=\"text-align: right;\">\n",
       "      <th></th>\n",
       "      <th>antecedents</th>\n",
       "      <th>consequents</th>\n",
       "      <th>support</th>\n",
       "      <th>confidence</th>\n",
       "      <th>lift</th>\n",
       "    </tr>\n",
       "  </thead>\n",
       "  <tbody>\n",
       "    <tr>\n",
       "      <th>33</th>\n",
       "      <td>(Snack: Fast Food, Snack: Beverages)</td>\n",
       "      <td>(Beverage: Water)</td>\n",
       "      <td>0.46</td>\n",
       "      <td>0.901961</td>\n",
       "      <td>1.202614</td>\n",
       "    </tr>\n",
       "    <tr>\n",
       "      <th>7</th>\n",
       "      <td>(Snack: Beverages)</td>\n",
       "      <td>(Beverage: Water)</td>\n",
       "      <td>0.64</td>\n",
       "      <td>0.888889</td>\n",
       "      <td>1.185185</td>\n",
       "    </tr>\n",
       "    <tr>\n",
       "      <th>8</th>\n",
       "      <td>(Snack: Fast Food)</td>\n",
       "      <td>(Beverage: Water)</td>\n",
       "      <td>0.52</td>\n",
       "      <td>0.866667</td>\n",
       "      <td>1.155556</td>\n",
       "    </tr>\n",
       "    <tr>\n",
       "      <th>10</th>\n",
       "      <td>(Snack: Healthy Options)</td>\n",
       "      <td>(Beverage: Water)</td>\n",
       "      <td>0.30</td>\n",
       "      <td>0.833333</td>\n",
       "      <td>1.111111</td>\n",
       "    </tr>\n",
       "    <tr>\n",
       "      <th>27</th>\n",
       "      <td>(Snack: Fast Food, Snack: Beverages)</td>\n",
       "      <td>(Beverage: Non-Alcoholic)</td>\n",
       "      <td>0.36</td>\n",
       "      <td>0.705882</td>\n",
       "      <td>1.411765</td>\n",
       "    </tr>\n",
       "    <tr>\n",
       "      <th>3</th>\n",
       "      <td>(Snack: Beverages)</td>\n",
       "      <td>(Beverage: Non-Alcoholic)</td>\n",
       "      <td>0.47</td>\n",
       "      <td>0.652778</td>\n",
       "      <td>1.305556</td>\n",
       "    </tr>\n",
       "    <tr>\n",
       "      <th>5</th>\n",
       "      <td>(Snack: Fast Food)</td>\n",
       "      <td>(Beverage: Non-Alcoholic)</td>\n",
       "      <td>0.38</td>\n",
       "      <td>0.633333</td>\n",
       "      <td>1.266667</td>\n",
       "    </tr>\n",
       "    <tr>\n",
       "      <th>45</th>\n",
       "      <td>(Snack: Fast Food, Snack: Beverages)</td>\n",
       "      <td>(Beverage: Non-Alcoholic, Beverage: Water)</td>\n",
       "      <td>0.31</td>\n",
       "      <td>0.607843</td>\n",
       "      <td>1.482544</td>\n",
       "    </tr>\n",
       "    <tr>\n",
       "      <th>19</th>\n",
       "      <td>(Snack: Beverages)</td>\n",
       "      <td>(Beverage: Non-Alcoholic, Beverage: Water)</td>\n",
       "      <td>0.40</td>\n",
       "      <td>0.555556</td>\n",
       "      <td>1.355014</td>\n",
       "    </tr>\n",
       "    <tr>\n",
       "      <th>24</th>\n",
       "      <td>(Snack: Fast Food)</td>\n",
       "      <td>(Beverage: Non-Alcoholic, Beverage: Water)</td>\n",
       "      <td>0.32</td>\n",
       "      <td>0.533333</td>\n",
       "      <td>1.300813</td>\n",
       "    </tr>\n",
       "  </tbody>\n",
       "</table>\n",
       "</div>"
      ]
     },
     "execution_count": 3,
     "metadata": {},
     "output_type": "execute_result"
    }
   ],
   "execution_count": 3
  },
  {
   "cell_type": "code",
   "id": "d0534e41-3728-4648-8838-619dcfdc7f53",
   "metadata": {
    "ExecuteTime": {
     "end_time": "2025-03-05T15:58:52.919963Z",
     "start_time": "2025-03-05T15:58:52.916040Z"
    }
   },
   "source": [],
   "outputs": [],
   "execution_count": null
  },
  {
   "cell_type": "code",
   "id": "90ba3117-700a-4d1f-bddb-a37fd9e8c6ed",
   "metadata": {
    "ExecuteTime": {
     "end_time": "2025-03-05T15:58:52.963167Z",
     "start_time": "2025-03-05T15:58:52.959421Z"
    }
   },
   "source": [],
   "outputs": [],
   "execution_count": null
  }
 ],
 "metadata": {
  "kernelspec": {
   "display_name": "Python [conda env:base] *",
   "language": "python",
   "name": "conda-base-py"
  },
  "language_info": {
   "codemirror_mode": {
    "name": "ipython",
    "version": 3
   },
   "file_extension": ".py",
   "mimetype": "text/x-python",
   "name": "python",
   "nbconvert_exporter": "python",
   "pygments_lexer": "ipython3",
   "version": "3.12.7"
  }
 },
 "nbformat": 4,
 "nbformat_minor": 5
}
