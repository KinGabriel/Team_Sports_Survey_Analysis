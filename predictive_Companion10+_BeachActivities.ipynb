{
 "cells": [
  {
   "cell_type": "code",
   "id": "initial_id",
   "metadata": {
    "ExecuteTime": {
     "end_time": "2025-03-05T19:02:51.939121Z",
     "start_time": "2025-03-05T19:02:51.929759Z"
    }
   },
   "source": [
    "import pandas as pd\n",
    "from mlxtend.frequent_patterns import apriori, association_rules\n",
    "data = pd.read_csv(\"Team_Sports_Survey_Preprocessed.csv\")"
   ],
   "outputs": [],
   "execution_count": 33
  },
  {
   "cell_type": "code",
   "id": "4e6abc55ba2b0686",
   "metadata": {
    "ExecuteTime": {
     "end_time": "2025-03-05T19:02:51.953130Z",
     "start_time": "2025-03-05T19:02:51.946132Z"
    }
   },
   "source": [
    "# Get the rows which Number of Companions is 10+\n",
    "companion = data[data[\"Number of Companions\"] == \"10+\"]"
   ],
   "outputs": [],
   "execution_count": 34
  },
  {
   "cell_type": "code",
   "id": "247703bd1d497d18",
   "metadata": {
    "ExecuteTime": {
     "end_time": "2025-03-05T19:02:52.010717Z",
     "start_time": "2025-03-05T19:02:51.998312Z"
    }
   },
   "source": [
    "# Split the values into a single items\n",
    "companion[\"Preferred Beach Activities\"] = companion[\"Preferred Beach Activities\"].str.split(\",\")\n",
    "\n",
    "# Convert the items into a transactional data \n",
    "transactions = companion[\"Preferred Beach Activities\"].explode().str.strip().reset_index()\n",
    "transactions_encoded = transactions.pivot_table(index=\"index\", columns=\"Preferred Beach Activities\", aggfunc=lambda x: 1, fill_value=0) "
   ],
   "outputs": [
    {
     "name": "stderr",
     "output_type": "stream",
     "text": [
      "C:\\Users\\joaqu\\AppData\\Local\\Temp\\ipykernel_20696\\1179435605.py:2: SettingWithCopyWarning: \n",
      "A value is trying to be set on a copy of a slice from a DataFrame.\n",
      "Try using .loc[row_indexer,col_indexer] = value instead\n",
      "\n",
      "See the caveats in the documentation: https://pandas.pydata.org/pandas-docs/stable/user_guide/indexing.html#returning-a-view-versus-a-copy\n",
      "  companion[\"Preferred Beach Activities\"] = companion[\"Preferred Beach Activities\"].str.split(\",\")\n"
     ]
    }
   ],
   "execution_count": 35
  },
  {
   "cell_type": "code",
   "id": "11c674c4a8b048ab",
   "metadata": {
    "ExecuteTime": {
     "end_time": "2025-03-05T19:03:23.244917Z",
     "start_time": "2025-03-05T19:03:23.220866Z"
    }
   },
   "source": [
    "# Use Apriori algorithm to find frequent association\n",
    "frequent_items= apriori(transactions_encoded, min_support=0.40, use_colnames=True) # threshold 40%\n",
    "rule = association_rules(frequent_items)\n",
    "rule[['antecedents','consequents','support', 'confidence', 'lift']].sort_values(\"confidence\", ascending=False)"
   ],
   "outputs": [
    {
     "name": "stderr",
     "output_type": "stream",
     "text": [
      "C:\\Users\\joaqu\\anaconda3\\Lib\\site-packages\\mlxtend\\frequent_patterns\\fpcommon.py:161: DeprecationWarning: DataFrames with non-bool types result in worse computationalperformance and their support might be discontinued in the future.Please use a DataFrame with bool type\n",
      "  warnings.warn(\n"
     ]
    },
    {
     "data": {
      "text/plain": [
       "                                           antecedents  \\\n",
       "0                                          (Jetskiing)   \n",
       "335                        (Jetskiing, Beach Swimming)   \n",
       "348  (Snorkeling/Scuba Diving, Jetskiing, Beach Swi...   \n",
       "347   (Surfboarding, Snorkeling/Scuba Diving, Fishing)   \n",
       "346  (Snorkeling/Scuba Diving, Fishing, Beach Swimm...   \n",
       "..                                                 ...   \n",
       "165            (Surfboarding, Fishing, Beach Swimming)   \n",
       "164  (Surfboarding, Snorkeling/Scuba Diving, Beach ...   \n",
       "163   (Surfboarding, Snorkeling/Scuba Diving, Fishing)   \n",
       "162                                (Kayaking/Paddling)   \n",
       "508                                        (Jetskiing)   \n",
       "\n",
       "                                           consequents  support  confidence  \\\n",
       "0                                     (Beach Swimming)      0.4         1.0   \n",
       "335         (Kayaking/Paddling, Surfboarding, Fishing)      0.4         1.0   \n",
       "348                            (Surfboarding, Fishing)      0.4         1.0   \n",
       "347                        (Jetskiing, Beach Swimming)      0.4         1.0   \n",
       "346                          (Surfboarding, Jetskiing)      0.4         1.0   \n",
       "..                                                 ...      ...         ...   \n",
       "165                          (Snorkeling/Scuba Diving)      0.4         1.0   \n",
       "164                                          (Fishing)      0.4         1.0   \n",
       "163                                   (Beach Swimming)      0.4         1.0   \n",
       "162            (Surfboarding, Fishing, Beach Swimming)      0.4         1.0   \n",
       "508  (Kayaking/Paddling, Snorkeling/Scuba Diving, F...      0.4         1.0   \n",
       "\n",
       "         lift  \n",
       "0    1.666667  \n",
       "335  2.500000  \n",
       "348  2.500000  \n",
       "347  2.500000  \n",
       "346  2.500000  \n",
       "..        ...  \n",
       "165  2.500000  \n",
       "164  1.666667  \n",
       "163  1.666667  \n",
       "162  2.500000  \n",
       "508  2.500000  \n",
       "\n",
       "[509 rows x 5 columns]"
      ],
      "text/html": [
       "<div>\n",
       "<style scoped>\n",
       "    .dataframe tbody tr th:only-of-type {\n",
       "        vertical-align: middle;\n",
       "    }\n",
       "\n",
       "    .dataframe tbody tr th {\n",
       "        vertical-align: top;\n",
       "    }\n",
       "\n",
       "    .dataframe thead th {\n",
       "        text-align: right;\n",
       "    }\n",
       "</style>\n",
       "<table border=\"1\" class=\"dataframe\">\n",
       "  <thead>\n",
       "    <tr style=\"text-align: right;\">\n",
       "      <th></th>\n",
       "      <th>antecedents</th>\n",
       "      <th>consequents</th>\n",
       "      <th>support</th>\n",
       "      <th>confidence</th>\n",
       "      <th>lift</th>\n",
       "    </tr>\n",
       "  </thead>\n",
       "  <tbody>\n",
       "    <tr>\n",
       "      <th>0</th>\n",
       "      <td>(Jetskiing)</td>\n",
       "      <td>(Beach Swimming)</td>\n",
       "      <td>0.4</td>\n",
       "      <td>1.0</td>\n",
       "      <td>1.666667</td>\n",
       "    </tr>\n",
       "    <tr>\n",
       "      <th>335</th>\n",
       "      <td>(Jetskiing, Beach Swimming)</td>\n",
       "      <td>(Kayaking/Paddling, Surfboarding, Fishing)</td>\n",
       "      <td>0.4</td>\n",
       "      <td>1.0</td>\n",
       "      <td>2.500000</td>\n",
       "    </tr>\n",
       "    <tr>\n",
       "      <th>348</th>\n",
       "      <td>(Snorkeling/Scuba Diving, Jetskiing, Beach Swi...</td>\n",
       "      <td>(Surfboarding, Fishing)</td>\n",
       "      <td>0.4</td>\n",
       "      <td>1.0</td>\n",
       "      <td>2.500000</td>\n",
       "    </tr>\n",
       "    <tr>\n",
       "      <th>347</th>\n",
       "      <td>(Surfboarding, Snorkeling/Scuba Diving, Fishing)</td>\n",
       "      <td>(Jetskiing, Beach Swimming)</td>\n",
       "      <td>0.4</td>\n",
       "      <td>1.0</td>\n",
       "      <td>2.500000</td>\n",
       "    </tr>\n",
       "    <tr>\n",
       "      <th>346</th>\n",
       "      <td>(Snorkeling/Scuba Diving, Fishing, Beach Swimm...</td>\n",
       "      <td>(Surfboarding, Jetskiing)</td>\n",
       "      <td>0.4</td>\n",
       "      <td>1.0</td>\n",
       "      <td>2.500000</td>\n",
       "    </tr>\n",
       "    <tr>\n",
       "      <th>...</th>\n",
       "      <td>...</td>\n",
       "      <td>...</td>\n",
       "      <td>...</td>\n",
       "      <td>...</td>\n",
       "      <td>...</td>\n",
       "    </tr>\n",
       "    <tr>\n",
       "      <th>165</th>\n",
       "      <td>(Surfboarding, Fishing, Beach Swimming)</td>\n",
       "      <td>(Snorkeling/Scuba Diving)</td>\n",
       "      <td>0.4</td>\n",
       "      <td>1.0</td>\n",
       "      <td>2.500000</td>\n",
       "    </tr>\n",
       "    <tr>\n",
       "      <th>164</th>\n",
       "      <td>(Surfboarding, Snorkeling/Scuba Diving, Beach ...</td>\n",
       "      <td>(Fishing)</td>\n",
       "      <td>0.4</td>\n",
       "      <td>1.0</td>\n",
       "      <td>1.666667</td>\n",
       "    </tr>\n",
       "    <tr>\n",
       "      <th>163</th>\n",
       "      <td>(Surfboarding, Snorkeling/Scuba Diving, Fishing)</td>\n",
       "      <td>(Beach Swimming)</td>\n",
       "      <td>0.4</td>\n",
       "      <td>1.0</td>\n",
       "      <td>1.666667</td>\n",
       "    </tr>\n",
       "    <tr>\n",
       "      <th>162</th>\n",
       "      <td>(Kayaking/Paddling)</td>\n",
       "      <td>(Surfboarding, Fishing, Beach Swimming)</td>\n",
       "      <td>0.4</td>\n",
       "      <td>1.0</td>\n",
       "      <td>2.500000</td>\n",
       "    </tr>\n",
       "    <tr>\n",
       "      <th>508</th>\n",
       "      <td>(Jetskiing)</td>\n",
       "      <td>(Kayaking/Paddling, Snorkeling/Scuba Diving, F...</td>\n",
       "      <td>0.4</td>\n",
       "      <td>1.0</td>\n",
       "      <td>2.500000</td>\n",
       "    </tr>\n",
       "  </tbody>\n",
       "</table>\n",
       "<p>509 rows × 5 columns</p>\n",
       "</div>"
      ]
     },
     "execution_count": 38,
     "metadata": {},
     "output_type": "execute_result"
    }
   ],
   "execution_count": 38
  },
  {
   "cell_type": "code",
   "id": "d0534e41-3728-4648-8838-619dcfdc7f53",
   "metadata": {
    "ExecuteTime": {
     "end_time": "2025-03-05T19:02:52.265709Z",
     "start_time": "2025-03-05T19:02:52.262704Z"
    }
   },
   "source": [],
   "outputs": [],
   "execution_count": null
  }
 ],
 "metadata": {
  "kernelspec": {
   "display_name": "Python [conda env:base] *",
   "language": "python",
   "name": "conda-base-py"
  },
  "language_info": {
   "codemirror_mode": {
    "name": "ipython",
    "version": 3
   },
   "file_extension": ".py",
   "mimetype": "text/x-python",
   "name": "python",
   "nbconvert_exporter": "python",
   "pygments_lexer": "ipython3",
   "version": "3.12.7"
  }
 },
 "nbformat": 4,
 "nbformat_minor": 5
}
