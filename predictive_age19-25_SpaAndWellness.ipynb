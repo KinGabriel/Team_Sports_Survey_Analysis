{
 "cells": [
  {
   "metadata": {},
   "cell_type": "code",
   "outputs": [],
   "execution_count": null,
   "source": [
    "import pandas as pd\n",
    "import re\n",
    "from mlxtend.frequent_patterns import apriori, association_rules\n",
    "data = pd.read_csv(\"Team_Sports_Survey_Preprocessed.csv\")\n",
    "# remove the eg. for each items\n",
    "def remove_parentheses(text):\n",
    "    if isinstance(text, str):\n",
    "        return re.sub(r\"\\s*\\(.*?\\)\", \"\", text)\n",
    "    return text\n"
   ],
   "id": "9d218d29dd148bdc"
  },
  {
   "metadata": {},
   "cell_type": "code",
   "outputs": [],
   "execution_count": null,
   "source": [
    "# Get the rows which age group  is below 19-25\n",
    "age_group = data[data[\"Age Group\"] == \"19 - 25\"]"
   ],
   "id": "2da403f7ca886c4d"
  },
  {
   "metadata": {},
   "cell_type": "code",
   "outputs": [],
   "execution_count": null,
   "source": [
    "# Split the values into a single items\n",
    "age_group[\"Preferred Spa and Wellness Activities\"] = age_group[\"Preferred Spa and Wellness Activities\"].apply(remove_parentheses).str.split(\", \")\n",
    "\n",
    "# Convert the items into a transactional data\n",
    "transactions = age_group[\"Preferred Spa and Wellness Activities\"].explode().str.strip().reset_index()\n",
    "transactions_encoded = transactions.pivot_table(index=\"index\", columns=\"Preferred Spa and Wellness Activities\", aggfunc=lambda x: 1, fill_value=0)"
   ],
   "id": "81a25b33270d54c0"
  },
  {
   "metadata": {},
   "cell_type": "code",
   "outputs": [],
   "execution_count": null,
   "source": [
    "# Use Apriori algorithm to find frequent association\n",
    "frequent_items= apriori(transactions_encoded, min_support=0.3, use_colnames=True)\n",
    "rule = association_rules(frequent_items)\n",
    "rule[['antecedents','consequents','support', 'confidence', 'lift']].sort_values(\"confidence\", ascending=False)"
   ],
   "id": "a66f2ff4c02c1213"
  }
 ],
 "metadata": {},
 "nbformat": 5,
 "nbformat_minor": 9
}
