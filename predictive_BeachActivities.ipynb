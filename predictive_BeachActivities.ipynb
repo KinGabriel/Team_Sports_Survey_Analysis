{
 "cells": [
  {
   "cell_type": "code",
   "id": "initial_id",
   "metadata": {
    "ExecuteTime": {
     "end_time": "2025-03-05T16:37:57.447853Z",
     "start_time": "2025-03-05T16:37:57.438463Z"
    }
   },
   "source": [
    "import pandas as pd\n",
    "from mlxtend.frequent_patterns import apriori, association_rules\n",
    "data = pd.read_csv(\"Team_Sports_Survey_Preprocessed.csv\")"
   ],
   "outputs": [],
   "execution_count": 10
  },
  {
   "cell_type": "code",
   "id": "91ee7d8f1f55725",
   "metadata": {
    "ExecuteTime": {
     "end_time": "2025-03-05T16:37:57.524940Z",
     "start_time": "2025-03-05T16:37:57.507961Z"
    }
   },
   "source": [
    "# Split the values into a single items\n",
    "data[\"Preferred Beach Activities\"] =data[\"Preferred Beach Activities\"].str.split(\",\")  \n",
    "\n",
    "# Convert the items into a transactional data \n",
    "transactions = data[\"Preferred Beach Activities\"].explode().str.strip().reset_index() \n",
    "transactions_encoded = transactions.pivot_table(index=\"index\", columns=\"Preferred Beach Activities\", aggfunc=lambda x: 1, fill_value=0) "
   ],
   "outputs": [],
   "execution_count": 11
  },
  {
   "cell_type": "code",
   "id": "11c674c4a8b048ab",
   "metadata": {
    "ExecuteTime": {
     "end_time": "2025-03-05T16:37:57.618734Z",
     "start_time": "2025-03-05T16:37:57.597089Z"
    }
   },
   "source": [
    "# Use Apriori algorithm to find frequent association\n",
    "frequent_items= apriori(transactions_encoded, min_support=0.2, use_colnames=True)# threshold 20%\n",
    "rule = association_rules(frequent_items)\n",
    "rule[['antecedents','consequents','support', 'confidence', 'lift']].sort_values(\"confidence\", ascending=False)"
   ],
   "outputs": [
    {
     "name": "stderr",
     "output_type": "stream",
     "text": [
      "C:\\Users\\joaqu\\anaconda3\\Lib\\site-packages\\mlxtend\\frequent_patterns\\fpcommon.py:161: DeprecationWarning: DataFrames with non-bool types result in worse computationalperformance and their support might be discontinued in the future.Please use a DataFrame with bool type\n",
      "  warnings.warn(\n"
     ]
    },
    {
     "data": {
      "text/plain": [
       "                            antecedents          consequents   support  \\\n",
       "4     (Surfboarding, Kayaking/Paddling)          (Jetskiing)  0.224719   \n",
       "3             (Jetskiing, Surfboarding)  (Kayaking/Paddling)  0.224719   \n",
       "1        (Beach Swimming, Surfboarding)          (Jetskiing)  0.202247   \n",
       "2  (Jetskiing, Snorkeling/Scuba Diving)  (Kayaking/Paddling)  0.235955   \n",
       "0                        (Surfboarding)          (Jetskiing)  0.258427   \n",
       "\n",
       "   confidence      lift  \n",
       "4    0.952381  2.067364  \n",
       "3    0.869565  1.579414  \n",
       "1    0.857143  1.860627  \n",
       "2    0.840000  1.525714  \n",
       "0    0.821429  1.783101  "
      ],
      "text/html": [
       "<div>\n",
       "<style scoped>\n",
       "    .dataframe tbody tr th:only-of-type {\n",
       "        vertical-align: middle;\n",
       "    }\n",
       "\n",
       "    .dataframe tbody tr th {\n",
       "        vertical-align: top;\n",
       "    }\n",
       "\n",
       "    .dataframe thead th {\n",
       "        text-align: right;\n",
       "    }\n",
       "</style>\n",
       "<table border=\"1\" class=\"dataframe\">\n",
       "  <thead>\n",
       "    <tr style=\"text-align: right;\">\n",
       "      <th></th>\n",
       "      <th>antecedents</th>\n",
       "      <th>consequents</th>\n",
       "      <th>support</th>\n",
       "      <th>confidence</th>\n",
       "      <th>lift</th>\n",
       "    </tr>\n",
       "  </thead>\n",
       "  <tbody>\n",
       "    <tr>\n",
       "      <th>4</th>\n",
       "      <td>(Surfboarding, Kayaking/Paddling)</td>\n",
       "      <td>(Jetskiing)</td>\n",
       "      <td>0.224719</td>\n",
       "      <td>0.952381</td>\n",
       "      <td>2.067364</td>\n",
       "    </tr>\n",
       "    <tr>\n",
       "      <th>3</th>\n",
       "      <td>(Jetskiing, Surfboarding)</td>\n",
       "      <td>(Kayaking/Paddling)</td>\n",
       "      <td>0.224719</td>\n",
       "      <td>0.869565</td>\n",
       "      <td>1.579414</td>\n",
       "    </tr>\n",
       "    <tr>\n",
       "      <th>1</th>\n",
       "      <td>(Beach Swimming, Surfboarding)</td>\n",
       "      <td>(Jetskiing)</td>\n",
       "      <td>0.202247</td>\n",
       "      <td>0.857143</td>\n",
       "      <td>1.860627</td>\n",
       "    </tr>\n",
       "    <tr>\n",
       "      <th>2</th>\n",
       "      <td>(Jetskiing, Snorkeling/Scuba Diving)</td>\n",
       "      <td>(Kayaking/Paddling)</td>\n",
       "      <td>0.235955</td>\n",
       "      <td>0.840000</td>\n",
       "      <td>1.525714</td>\n",
       "    </tr>\n",
       "    <tr>\n",
       "      <th>0</th>\n",
       "      <td>(Surfboarding)</td>\n",
       "      <td>(Jetskiing)</td>\n",
       "      <td>0.258427</td>\n",
       "      <td>0.821429</td>\n",
       "      <td>1.783101</td>\n",
       "    </tr>\n",
       "  </tbody>\n",
       "</table>\n",
       "</div>"
      ]
     },
     "execution_count": 12,
     "metadata": {},
     "output_type": "execute_result"
    }
   ],
   "execution_count": 12
  },
  {
   "cell_type": "code",
   "id": "d0534e41-3728-4648-8838-619dcfdc7f53",
   "metadata": {
    "ExecuteTime": {
     "end_time": "2025-03-05T16:37:57.804717Z",
     "start_time": "2025-03-05T16:37:57.800174Z"
    }
   },
   "source": [],
   "outputs": [],
   "execution_count": null
  },
  {
   "cell_type": "code",
   "id": "90ba3117-700a-4d1f-bddb-a37fd9e8c6ed",
   "metadata": {
    "ExecuteTime": {
     "end_time": "2025-03-05T16:37:57.883212Z",
     "start_time": "2025-03-05T16:37:57.879697Z"
    }
   },
   "source": [],
   "outputs": [],
   "execution_count": null
  }
 ],
 "metadata": {
  "kernelspec": {
   "display_name": "Python [conda env:base] *",
   "language": "python",
   "name": "conda-base-py"
  },
  "language_info": {
   "codemirror_mode": {
    "name": "ipython",
    "version": 3
   },
   "file_extension": ".py",
   "mimetype": "text/x-python",
   "name": "python",
   "nbconvert_exporter": "python",
   "pygments_lexer": "ipython3",
   "version": "3.12.7"
  }
 },
 "nbformat": 4,
 "nbformat_minor": 5
}
