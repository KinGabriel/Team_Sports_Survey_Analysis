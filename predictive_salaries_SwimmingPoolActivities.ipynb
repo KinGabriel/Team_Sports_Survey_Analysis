{
 "cells": [
  {
   "metadata": {},
   "cell_type": "code",
   "outputs": [],
   "execution_count": null,
   "source": [
    "import pandas as pd\n",
    "import re\n",
    "from mlxtend.frequent_patterns import apriori, association_rules\n",
    "data = pd.read_csv(\"Team_Sports_Survey_Preprocessed.csv\")\n",
    "# remove the eg. for each items\n",
    "def remove_parentheses(text):\n",
    "    if isinstance(text, str):\n",
    "        return re.sub(r\"\\s*\\(.*?\\)\", \"\", text)\n",
    "    return text"
   ],
   "id": "4d2313de0901013c"
  },
  {
   "metadata": {},
   "cell_type": "code",
   "outputs": [],
   "execution_count": null,
   "source": [
    "# Get the rows which salary is below 9100\n",
    "salary = data[data[\"Monthly Income (Php)\"] == \"< 9,100\"]"
   ],
   "id": "fbcef63337a8fc93"
  },
  {
   "metadata": {},
   "cell_type": "code",
   "outputs": [],
   "execution_count": null,
   "source": [
    "# Split the values into a single items\n",
    "salary[\"Preferred Swimming Pool Activities\"] = salary[\"Preferred Swimming Pool Activities\"].apply(remove_parentheses).str.split(\", \")\n",
    "\n",
    "# Convert the items into a transactional data\n",
    "transactions = salary[\"Preferred Swimming Pool Activities\"].explode().str.strip().reset_index() # seperate rows\n",
    "transactions_encoded = transactions.pivot_table(index=\"index\", columns=\"Preferred Swimming Pool Activities\", aggfunc=lambda x: 1, fill_value=0)"
   ],
   "id": "3022aaa965650251"
  },
  {
   "metadata": {},
   "cell_type": "code",
   "outputs": [],
   "execution_count": null,
   "source": [
    "# Use Apriori algorithm to find frequent association\n",
    "frequent_items= apriori(transactions_encoded, min_support=0.2, use_colnames=True)# threshold 20%\n",
    "rule = association_rules(frequent_items)\n",
    "rule[['antecedents','consequents','support', 'confidence', 'lift']].sort_values(\"confidence\", ascending=False)"
   ],
   "id": "5e26ac5a82cdcdd8"
  }
 ],
 "metadata": {},
 "nbformat": 5,
 "nbformat_minor": 9
}
