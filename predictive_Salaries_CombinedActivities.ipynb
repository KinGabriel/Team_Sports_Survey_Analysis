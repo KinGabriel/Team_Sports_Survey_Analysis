{
 "cells": [
  {
   "cell_type": "code",
   "execution_count": 1,
   "id": "initial_id",
   "metadata": {
    "ExecuteTime": {
     "end_time": "2025-03-06T03:57:45.436637Z",
     "start_time": "2025-03-06T03:57:45.427505Z"
    }
   },
   "outputs": [],
   "source": [
    "import pandas as pd\n",
    "import re\n",
    "from mlxtend.frequent_patterns import apriori, association_rules\n",
    "data = pd.read_csv(\"Team_Sports_Survey_Preprocessed.csv\")\n",
    "# remove the eg. for each items\n",
    "def remove_parentheses(text):\n",
    "    if isinstance(text, str):  \n",
    "        return re.sub(r\"\\s*\\(.*?\\)\", \"\", text)\n",
    "    return text  "
   ]
  },
  {
   "cell_type": "code",
   "execution_count": 2,
   "id": "18dcc12f50ee0785",
   "metadata": {
    "ExecuteTime": {
     "end_time": "2025-03-06T03:57:45.463198Z",
     "start_time": "2025-03-06T03:57:45.457199Z"
    }
   },
   "outputs": [],
   "source": [
    "# Get the rows which salary is below 9100\n",
    "salary = data[data[\"Monthly Income (Php)\"] == \"< 9,100\"]"
   ]
  },
  {
   "cell_type": "code",
   "execution_count": 3,
   "id": "91ee7d8f1f55725",
   "metadata": {
    "ExecuteTime": {
     "end_time": "2025-03-06T03:57:45.508665Z",
     "start_time": "2025-03-06T03:57:45.491597Z"
    }
   },
   "outputs": [
    {
     "name": "stderr",
     "output_type": "stream",
     "text": [
      "C:\\Users\\joaqu\\AppData\\Local\\Temp\\ipykernel_19516\\355822851.py:3: FutureWarning: DataFrame.applymap has been deprecated. Use DataFrame.map instead.\n",
      "  salary[columns_to_combine] = salary[columns_to_combine].applymap(remove_parentheses)\n",
      "C:\\Users\\joaqu\\AppData\\Local\\Temp\\ipykernel_19516\\355822851.py:3: SettingWithCopyWarning: \n",
      "A value is trying to be set on a copy of a slice from a DataFrame.\n",
      "Try using .loc[row_indexer,col_indexer] = value instead\n",
      "\n",
      "See the caveats in the documentation: https://pandas.pydata.org/pandas-docs/stable/user_guide/indexing.html#returning-a-view-versus-a-copy\n",
      "  salary[columns_to_combine] = salary[columns_to_combine].applymap(remove_parentheses)\n",
      "C:\\Users\\joaqu\\AppData\\Local\\Temp\\ipykernel_19516\\355822851.py:6: SettingWithCopyWarning: \n",
      "A value is trying to be set on a copy of a slice from a DataFrame.\n",
      "Try using .loc[row_indexer,col_indexer] = value instead\n",
      "\n",
      "See the caveats in the documentation: https://pandas.pydata.org/pandas-docs/stable/user_guide/indexing.html#returning-a-view-versus-a-copy\n",
      "  salary[\"Combined Activities\"] = salary[columns_to_combine].apply(lambda x: ', '.join(x.dropna()), axis=1)\n"
     ]
    }
   ],
   "source": [
    "# Clean the columns data by removing the (eg. items) by using the regex\n",
    "columns_to_combine = [\"Preferred Swimming Pool Activities\", \"Preferred Beach Activities\", \"Preferred Spa and Wellness Activities\"]\n",
    "salary[columns_to_combine] = salary[columns_to_combine].applymap(remove_parentheses)\n",
    "\n",
    "# Combine all the columns\n",
    "salary[\"Combined Activities\"] = salary[columns_to_combine].apply(lambda x: ', '.join(x.dropna()), axis=1)\n",
    "\n",
    "# Convert the items into a transactional data \n",
    "transactions = salary[\"Combined Activities\"].str.split(\",\").explode().str.strip().reset_index()\n",
    "transactions_encoded = transactions.pivot_table(index=\"index\", columns=\"Combined Activities\", aggfunc=lambda x: 1, fill_value=0)"
   ]
  },
  {
   "cell_type": "code",
   "execution_count": 4,
   "id": "11c674c4a8b048ab",
   "metadata": {
    "ExecuteTime": {
     "end_time": "2025-03-06T03:57:45.600664200Z",
     "start_time": "2025-03-06T03:18:08.358037Z"
    }
   },
   "outputs": [
    {
     "name": "stderr",
     "output_type": "stream",
     "text": [
      "C:\\Users\\joaqu\\anaconda3\\Lib\\site-packages\\mlxtend\\frequent_patterns\\fpcommon.py:161: DeprecationWarning: DataFrames with non-bool types result in worse computationalperformance and their support might be discontinued in the future.Please use a DataFrame with bool type\n",
      "  warnings.warn(\n"
     ]
    },
    {
     "data": {
      "text/html": [
       "<div>\n",
       "<style scoped>\n",
       "    .dataframe tbody tr th:only-of-type {\n",
       "        vertical-align: middle;\n",
       "    }\n",
       "\n",
       "    .dataframe tbody tr th {\n",
       "        vertical-align: top;\n",
       "    }\n",
       "\n",
       "    .dataframe thead th {\n",
       "        text-align: right;\n",
       "    }\n",
       "</style>\n",
       "<table border=\"1\" class=\"dataframe\">\n",
       "  <thead>\n",
       "    <tr style=\"text-align: right;\">\n",
       "      <th></th>\n",
       "      <th>antecedents</th>\n",
       "      <th>consequents</th>\n",
       "      <th>support</th>\n",
       "      <th>confidence</th>\n",
       "      <th>lift</th>\n",
       "    </tr>\n",
       "  </thead>\n",
       "  <tbody>\n",
       "    <tr>\n",
       "      <th>2</th>\n",
       "      <td>(Spa Treatment)</td>\n",
       "      <td>(Massage Therapy)</td>\n",
       "      <td>0.305085</td>\n",
       "      <td>1.000000</td>\n",
       "      <td>2.034483</td>\n",
       "    </tr>\n",
       "    <tr>\n",
       "      <th>6</th>\n",
       "      <td>(Spa Treatment)</td>\n",
       "      <td>(Relaxing in Pool)</td>\n",
       "      <td>0.305085</td>\n",
       "      <td>1.000000</td>\n",
       "      <td>1.311111</td>\n",
       "    </tr>\n",
       "    <tr>\n",
       "      <th>7</th>\n",
       "      <td>(Massage Therapy, Spa Treatment)</td>\n",
       "      <td>(Relaxing in Pool)</td>\n",
       "      <td>0.305085</td>\n",
       "      <td>1.000000</td>\n",
       "      <td>1.311111</td>\n",
       "    </tr>\n",
       "    <tr>\n",
       "      <th>8</th>\n",
       "      <td>(Relaxing in Pool, Spa Treatment)</td>\n",
       "      <td>(Massage Therapy)</td>\n",
       "      <td>0.305085</td>\n",
       "      <td>1.000000</td>\n",
       "      <td>2.034483</td>\n",
       "    </tr>\n",
       "    <tr>\n",
       "      <th>9</th>\n",
       "      <td>(Spa Treatment)</td>\n",
       "      <td>(Massage Therapy, Relaxing in Pool)</td>\n",
       "      <td>0.305085</td>\n",
       "      <td>1.000000</td>\n",
       "      <td>2.565217</td>\n",
       "    </tr>\n",
       "    <tr>\n",
       "      <th>3</th>\n",
       "      <td>(Play with Pool Toys)</td>\n",
       "      <td>(Relaxing in Pool)</td>\n",
       "      <td>0.322034</td>\n",
       "      <td>0.950000</td>\n",
       "      <td>1.245556</td>\n",
       "    </tr>\n",
       "    <tr>\n",
       "      <th>4</th>\n",
       "      <td>(Sauna and Steam Rooms)</td>\n",
       "      <td>(Relaxing in Pool)</td>\n",
       "      <td>0.338983</td>\n",
       "      <td>0.909091</td>\n",
       "      <td>1.191919</td>\n",
       "    </tr>\n",
       "    <tr>\n",
       "      <th>0</th>\n",
       "      <td>(Beach Swimming)</td>\n",
       "      <td>(Relaxing in Pool)</td>\n",
       "      <td>0.508475</td>\n",
       "      <td>0.857143</td>\n",
       "      <td>1.123810</td>\n",
       "    </tr>\n",
       "    <tr>\n",
       "      <th>5</th>\n",
       "      <td>(Snorkeling/Scuba Diving)</td>\n",
       "      <td>(Relaxing in Pool)</td>\n",
       "      <td>0.389831</td>\n",
       "      <td>0.851852</td>\n",
       "      <td>1.116872</td>\n",
       "    </tr>\n",
       "    <tr>\n",
       "      <th>1</th>\n",
       "      <td>(Kayaking/Paddling)</td>\n",
       "      <td>(Relaxing in Pool)</td>\n",
       "      <td>0.372881</td>\n",
       "      <td>0.814815</td>\n",
       "      <td>1.068313</td>\n",
       "    </tr>\n",
       "  </tbody>\n",
       "</table>\n",
       "</div>"
      ],
      "text/plain": [
       "                         antecedents                          consequents  \\\n",
       "2                    (Spa Treatment)                    (Massage Therapy)   \n",
       "6                    (Spa Treatment)                   (Relaxing in Pool)   \n",
       "7   (Massage Therapy, Spa Treatment)                   (Relaxing in Pool)   \n",
       "8  (Relaxing in Pool, Spa Treatment)                    (Massage Therapy)   \n",
       "9                    (Spa Treatment)  (Massage Therapy, Relaxing in Pool)   \n",
       "3              (Play with Pool Toys)                   (Relaxing in Pool)   \n",
       "4            (Sauna and Steam Rooms)                   (Relaxing in Pool)   \n",
       "0                   (Beach Swimming)                   (Relaxing in Pool)   \n",
       "5          (Snorkeling/Scuba Diving)                   (Relaxing in Pool)   \n",
       "1                (Kayaking/Paddling)                   (Relaxing in Pool)   \n",
       "\n",
       "    support  confidence      lift  \n",
       "2  0.305085    1.000000  2.034483  \n",
       "6  0.305085    1.000000  1.311111  \n",
       "7  0.305085    1.000000  1.311111  \n",
       "8  0.305085    1.000000  2.034483  \n",
       "9  0.305085    1.000000  2.565217  \n",
       "3  0.322034    0.950000  1.245556  \n",
       "4  0.338983    0.909091  1.191919  \n",
       "0  0.508475    0.857143  1.123810  \n",
       "5  0.389831    0.851852  1.116872  \n",
       "1  0.372881    0.814815  1.068313  "
      ]
     },
     "execution_count": 4,
     "metadata": {},
     "output_type": "execute_result"
    }
   ],
   "source": [
    "# Use Apriori algorithm to find frequent association\n",
    "frequent_items= apriori(transactions_encoded, min_support=0.3, use_colnames=True)# threshold 30%\n",
    "rule = association_rules(frequent_items)\n",
    "rule[['antecedents','consequents','support', 'confidence', 'lift']].sort_values(\"confidence\", ascending=False)"
   ]
  },
  {
   "cell_type": "code",
   "execution_count": null,
   "id": "d0534e41-3728-4648-8838-619dcfdc7f53",
   "metadata": {
    "ExecuteTime": {
     "end_time": "2025-03-06T03:57:45.601663300Z",
     "start_time": "2025-03-06T03:18:08.511472Z"
    }
   },
   "outputs": [],
   "source": []
  },
  {
   "cell_type": "code",
   "execution_count": null,
   "id": "90ba3117-700a-4d1f-bddb-a37fd9e8c6ed",
   "metadata": {
    "ExecuteTime": {
     "end_time": "2025-03-06T03:57:45.622865800Z",
     "start_time": "2025-03-06T03:18:08.646949Z"
    }
   },
   "outputs": [],
   "source": []
  }
 ],
 "metadata": {
  "kernelspec": {
   "display_name": "Python [conda env:base] *",
   "language": "python",
   "name": "conda-base-py"
  },
  "language_info": {
   "codemirror_mode": {
    "name": "ipython",
    "version": 3
   },
   "file_extension": ".py",
   "mimetype": "text/x-python",
   "name": "python",
   "nbconvert_exporter": "python",
   "pygments_lexer": "ipython3",
   "version": "3.12.7"
  }
 },
 "nbformat": 4,
 "nbformat_minor": 5
}
