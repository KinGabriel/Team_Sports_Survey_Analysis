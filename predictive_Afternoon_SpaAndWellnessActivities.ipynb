{
 "cells": [
  {
   "cell_type": "code",
   "id": "initial_id",
   "metadata": {
    "collapsed": true,
    "ExecuteTime": {
     "end_time": "2025-03-05T16:05:43.109390Z",
     "start_time": "2025-03-05T16:05:42.811476Z"
    }
   },
   "source": [
    "import pandas as pd\n",
    "import re\n",
    "from mlxtend.frequent_patterns import apriori, association_rules\n",
    "data = pd.read_csv(\"Team_Sports_Survey_Preprocessed.csv\")\n",
    "# remove the eg. for each items\n",
    "def remove_parentheses(text):\n",
    "    if isinstance(text, str):\n",
    "        return re.sub(r\"\\s*\\(.*?\\)\", \"\", text)\n",
    "    return text"
   ],
   "outputs": [],
   "execution_count": 1
  },
  {
   "metadata": {
    "ExecuteTime": {
     "end_time": "2025-03-05T16:05:43.116937Z",
     "start_time": "2025-03-05T16:05:43.112969Z"
    }
   },
   "cell_type": "code",
   "source": [
    "# Get the rows which preferred time is Afternoon\n",
    "# Split the values into a single items in the \"Preferred Check-in Days\" column\n",
    "data[\"Preferred Time for Spa and Wellness Activities\"] = data[\"Preferred Time for Spa and Wellness Activities\"].str.split(\", \")\n",
    "# Get only rows where Saturday or Sunday is in the dataset\n",
    "time_data = data[data[\"Preferred Time for Spa and Wellness Activities\"].apply(lambda x: any(time in [\"Afternoon (12PM-5PM)\"] for time in x))]"
   ],
   "id": "3d89acadd6aa46ac",
   "outputs": [],
   "execution_count": 2
  },
  {
   "metadata": {
    "ExecuteTime": {
     "end_time": "2025-03-05T16:05:43.226361Z",
     "start_time": "2025-03-05T16:05:43.216404Z"
    }
   },
   "cell_type": "code",
   "source": [
    "# Split the values into a single items\n",
    "time_data[\"Preferred Spa and Wellness Activities\"] = time_data[\"Preferred Spa and Wellness Activities\"].apply(remove_parentheses).str.split(\",\")\n",
    "\n",
    "# Convert the items into a transactional data\n",
    "transactions = time_data[\"Preferred Spa and Wellness Activities\"].explode().str.strip().reset_index()\n",
    "transactions_encoded = transactions.pivot_table(index=\"index\", columns=\"Preferred Spa and Wellness Activities\", aggfunc=lambda x: 1, fill_value=0)"
   ],
   "id": "1ccc145d88fe66df",
   "outputs": [
    {
     "name": "stderr",
     "output_type": "stream",
     "text": [
      "C:\\Users\\NJ\\AppData\\Local\\Temp\\ipykernel_16908\\875489881.py:2: SettingWithCopyWarning: \n",
      "A value is trying to be set on a copy of a slice from a DataFrame.\n",
      "Try using .loc[row_indexer,col_indexer] = value instead\n",
      "\n",
      "See the caveats in the documentation: https://pandas.pydata.org/pandas-docs/stable/user_guide/indexing.html#returning-a-view-versus-a-copy\n",
      "  time_data[\"Preferred Spa and Wellness Activities\"] = time_data[\"Preferred Spa and Wellness Activities\"].apply(remove_parentheses).str.split(\",\")\n"
     ]
    }
   ],
   "execution_count": 3
  },
  {
   "metadata": {
    "ExecuteTime": {
     "end_time": "2025-03-05T16:05:43.256632Z",
     "start_time": "2025-03-05T16:05:43.240977Z"
    }
   },
   "cell_type": "code",
   "source": [
    "# Use Apriori algorithm to find frequent association\n",
    "frequent_items= apriori(transactions_encoded, min_support=0.2, use_colnames=True)\n",
    "rule = association_rules(frequent_items)\n",
    "rule[['antecedents','consequents','support', 'confidence', 'lift']].sort_values(\"confidence\", ascending=False)"
   ],
   "id": "8314dafde329b1b7",
   "outputs": [
    {
     "name": "stderr",
     "output_type": "stream",
     "text": [
      "C:\\Users\\NJ\\AppData\\Local\\Programs\\Python\\Python312\\Lib\\site-packages\\mlxtend\\frequent_patterns\\fpcommon.py:161: DeprecationWarning: DataFrames with non-bool types result in worse computationalperformance and their support might be discontinued in the future.Please use a DataFrame with bool type\n",
      "  warnings.warn(\n"
     ]
    },
    {
     "data": {
      "text/plain": [
       "                                antecedents              consequents  \\\n",
       "1                           (Spa Treatment)  (Sauna and Steam Rooms)   \n",
       "3          (Spa Treatment, Massage Therapy)  (Sauna and Steam Rooms)   \n",
       "0                           (Spa Treatment)        (Massage Therapy)   \n",
       "2    (Spa Treatment, Sauna and Steam Rooms)        (Massage Therapy)   \n",
       "4  (Sauna and Steam Rooms, Massage Therapy)          (Spa Treatment)   \n",
       "\n",
       "    support  confidence      lift  \n",
       "1  0.515152    0.894737  1.093567  \n",
       "3  0.424242    0.875000  1.069444  \n",
       "0  0.484848    0.842105  1.208238  \n",
       "2  0.424242    0.823529  1.181586  \n",
       "4  0.424242    0.823529  1.430341  "
      ],
      "text/html": [
       "<div>\n",
       "<style scoped>\n",
       "    .dataframe tbody tr th:only-of-type {\n",
       "        vertical-align: middle;\n",
       "    }\n",
       "\n",
       "    .dataframe tbody tr th {\n",
       "        vertical-align: top;\n",
       "    }\n",
       "\n",
       "    .dataframe thead th {\n",
       "        text-align: right;\n",
       "    }\n",
       "</style>\n",
       "<table border=\"1\" class=\"dataframe\">\n",
       "  <thead>\n",
       "    <tr style=\"text-align: right;\">\n",
       "      <th></th>\n",
       "      <th>antecedents</th>\n",
       "      <th>consequents</th>\n",
       "      <th>support</th>\n",
       "      <th>confidence</th>\n",
       "      <th>lift</th>\n",
       "    </tr>\n",
       "  </thead>\n",
       "  <tbody>\n",
       "    <tr>\n",
       "      <th>1</th>\n",
       "      <td>(Spa Treatment)</td>\n",
       "      <td>(Sauna and Steam Rooms)</td>\n",
       "      <td>0.515152</td>\n",
       "      <td>0.894737</td>\n",
       "      <td>1.093567</td>\n",
       "    </tr>\n",
       "    <tr>\n",
       "      <th>3</th>\n",
       "      <td>(Spa Treatment, Massage Therapy)</td>\n",
       "      <td>(Sauna and Steam Rooms)</td>\n",
       "      <td>0.424242</td>\n",
       "      <td>0.875000</td>\n",
       "      <td>1.069444</td>\n",
       "    </tr>\n",
       "    <tr>\n",
       "      <th>0</th>\n",
       "      <td>(Spa Treatment)</td>\n",
       "      <td>(Massage Therapy)</td>\n",
       "      <td>0.484848</td>\n",
       "      <td>0.842105</td>\n",
       "      <td>1.208238</td>\n",
       "    </tr>\n",
       "    <tr>\n",
       "      <th>2</th>\n",
       "      <td>(Spa Treatment, Sauna and Steam Rooms)</td>\n",
       "      <td>(Massage Therapy)</td>\n",
       "      <td>0.424242</td>\n",
       "      <td>0.823529</td>\n",
       "      <td>1.181586</td>\n",
       "    </tr>\n",
       "    <tr>\n",
       "      <th>4</th>\n",
       "      <td>(Sauna and Steam Rooms, Massage Therapy)</td>\n",
       "      <td>(Spa Treatment)</td>\n",
       "      <td>0.424242</td>\n",
       "      <td>0.823529</td>\n",
       "      <td>1.430341</td>\n",
       "    </tr>\n",
       "  </tbody>\n",
       "</table>\n",
       "</div>"
      ]
     },
     "execution_count": 4,
     "metadata": {},
     "output_type": "execute_result"
    }
   ],
   "execution_count": 4
  }
 ],
 "metadata": {
  "kernelspec": {
   "display_name": "Python 3",
   "language": "python",
   "name": "python3"
  },
  "language_info": {
   "codemirror_mode": {
    "name": "ipython",
    "version": 2
   },
   "file_extension": ".py",
   "mimetype": "text/x-python",
   "name": "python",
   "nbconvert_exporter": "python",
   "pygments_lexer": "ipython2",
   "version": "2.7.6"
  }
 },
 "nbformat": 4,
 "nbformat_minor": 5
}
