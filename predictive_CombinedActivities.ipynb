{
 "cells": [
  {
   "cell_type": "code",
   "id": "initial_id",
   "metadata": {
    "ExecuteTime": {
     "end_time": "2025-03-06T03:18:08.153524Z",
     "start_time": "2025-03-06T03:18:08.142194Z"
    }
   },
   "source": [
    "import pandas as pd\n",
    "import re\n",
    "from mlxtend.frequent_patterns import apriori, association_rules\n",
    "data = pd.read_csv(\"Team_Sports_Survey_Preprocessed.csv\")\n",
    "# remove the eg. for each items\n",
    "def remove_parentheses(text):\n",
    "    if isinstance(text, str):  \n",
    "        return re.sub(r\"\\s*\\(.*?\\)\", \"\", text)\n",
    "    return text  "
   ],
   "outputs": [],
   "execution_count": 5
  },
  {
   "cell_type": "code",
   "id": "91ee7d8f1f55725",
   "metadata": {
    "ExecuteTime": {
     "end_time": "2025-03-06T03:18:08.246888Z",
     "start_time": "2025-03-06T03:18:08.217543Z"
    }
   },
   "source": [
    "# Clean the columns data by removing the (eg. items) by using the regex\n",
    "columns_to_combine = [\"Preferred Swimming Pool Activities\", \"Preferred Beach Activities\", \"Preferred Spa and Wellness Activities\"]\n",
    "data[columns_to_combine] = data[columns_to_combine].applymap(remove_parentheses)\n",
    "\n",
    "# Combine all the columns\n",
    "data[\"Combined Activities\"] = data[columns_to_combine].apply(lambda x: ', '.join(x.dropna()), axis=1)\n",
    "\n",
    "# Convert the items into a transactional data \n",
    "transactions = data[\"Combined Activities\"].str.split(\",\").explode().str.strip().reset_index()\n",
    "transactions_encoded = transactions.pivot_table(index=\"index\", columns=\"Combined Activities\", aggfunc=lambda x: 1, fill_value=0)"
   ],
   "outputs": [
    {
     "name": "stderr",
     "output_type": "stream",
     "text": [
      "C:\\Users\\joaqu\\AppData\\Local\\Temp\\ipykernel_6604\\507130932.py:3: FutureWarning: DataFrame.applymap has been deprecated. Use DataFrame.map instead.\n",
      "  data[columns_to_combine] = data[columns_to_combine].applymap(remove_parentheses)\n"
     ]
    }
   ],
   "execution_count": 6
  },
  {
   "cell_type": "code",
   "id": "11c674c4a8b048ab",
   "metadata": {
    "ExecuteTime": {
     "end_time": "2025-03-06T03:18:08.377137Z",
     "start_time": "2025-03-06T03:18:08.358037Z"
    }
   },
   "source": [
    "# Use Apriori algorithm to find frequent association\n",
    "frequent_items= apriori(transactions_encoded, min_support=0.4, use_colnames=True)# threshold 40%\n",
    "rule = association_rules(frequent_items)\n",
    "rule[['antecedents','consequents','support', 'confidence', 'lift']].sort_values(\"confidence\", ascending=False)"
   ],
   "outputs": [
    {
     "name": "stderr",
     "output_type": "stream",
     "text": [
      "C:\\Users\\joaqu\\anaconda3\\Lib\\site-packages\\mlxtend\\frequent_patterns\\fpcommon.py:161: DeprecationWarning: DataFrames with non-bool types result in worse computationalperformance and their support might be discontinued in the future.Please use a DataFrame with bool type\n",
      "  warnings.warn(\n"
     ]
    },
    {
     "data": {
      "text/plain": [
       "           antecedents         consequents  support  confidence      lift\n",
       "0     (Beach Swimming)  (Relaxing in Pool)     0.58    0.865672  1.109835\n",
       "2    (Massage Therapy)  (Relaxing in Pool)     0.41    0.820000  1.051282\n",
       "1  (Kayaking/Paddling)  (Relaxing in Pool)     0.40    0.816327  1.046572"
      ],
      "text/html": [
       "<div>\n",
       "<style scoped>\n",
       "    .dataframe tbody tr th:only-of-type {\n",
       "        vertical-align: middle;\n",
       "    }\n",
       "\n",
       "    .dataframe tbody tr th {\n",
       "        vertical-align: top;\n",
       "    }\n",
       "\n",
       "    .dataframe thead th {\n",
       "        text-align: right;\n",
       "    }\n",
       "</style>\n",
       "<table border=\"1\" class=\"dataframe\">\n",
       "  <thead>\n",
       "    <tr style=\"text-align: right;\">\n",
       "      <th></th>\n",
       "      <th>antecedents</th>\n",
       "      <th>consequents</th>\n",
       "      <th>support</th>\n",
       "      <th>confidence</th>\n",
       "      <th>lift</th>\n",
       "    </tr>\n",
       "  </thead>\n",
       "  <tbody>\n",
       "    <tr>\n",
       "      <th>0</th>\n",
       "      <td>(Beach Swimming)</td>\n",
       "      <td>(Relaxing in Pool)</td>\n",
       "      <td>0.58</td>\n",
       "      <td>0.865672</td>\n",
       "      <td>1.109835</td>\n",
       "    </tr>\n",
       "    <tr>\n",
       "      <th>2</th>\n",
       "      <td>(Massage Therapy)</td>\n",
       "      <td>(Relaxing in Pool)</td>\n",
       "      <td>0.41</td>\n",
       "      <td>0.820000</td>\n",
       "      <td>1.051282</td>\n",
       "    </tr>\n",
       "    <tr>\n",
       "      <th>1</th>\n",
       "      <td>(Kayaking/Paddling)</td>\n",
       "      <td>(Relaxing in Pool)</td>\n",
       "      <td>0.40</td>\n",
       "      <td>0.816327</td>\n",
       "      <td>1.046572</td>\n",
       "    </tr>\n",
       "  </tbody>\n",
       "</table>\n",
       "</div>"
      ]
     },
     "execution_count": 7,
     "metadata": {},
     "output_type": "execute_result"
    }
   ],
   "execution_count": 7
  },
  {
   "cell_type": "code",
   "id": "d0534e41-3728-4648-8838-619dcfdc7f53",
   "metadata": {
    "ExecuteTime": {
     "end_time": "2025-03-06T03:18:08.514549Z",
     "start_time": "2025-03-06T03:18:08.511472Z"
    }
   },
   "source": [],
   "outputs": [],
   "execution_count": null
  },
  {
   "cell_type": "code",
   "id": "90ba3117-700a-4d1f-bddb-a37fd9e8c6ed",
   "metadata": {
    "ExecuteTime": {
     "end_time": "2025-03-06T03:18:08.651012Z",
     "start_time": "2025-03-06T03:18:08.646949Z"
    }
   },
   "source": [],
   "outputs": [],
   "execution_count": null
  }
 ],
 "metadata": {
  "kernelspec": {
   "display_name": "Python [conda env:base] *",
   "language": "python",
   "name": "conda-base-py"
  },
  "language_info": {
   "codemirror_mode": {
    "name": "ipython",
    "version": 3
   },
   "file_extension": ".py",
   "mimetype": "text/x-python",
   "name": "python",
   "nbconvert_exporter": "python",
   "pygments_lexer": "ipython3",
   "version": "3.12.7"
  }
 },
 "nbformat": 4,
 "nbformat_minor": 5
}
