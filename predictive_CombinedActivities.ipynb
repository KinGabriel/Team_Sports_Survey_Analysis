{
 "cells": [
  {
   "cell_type": "code",
   "id": "initial_id",
   "metadata": {
    "ExecuteTime": {
     "end_time": "2025-03-05T16:56:03.724315Z",
     "start_time": "2025-03-05T16:56:03.056627Z"
    }
   },
   "source": [
    "import pandas as pd\n",
    "import re\n",
    "from mlxtend.frequent_patterns import apriori, association_rules\n",
    "data = pd.read_csv(\"Team_Sports_Survey_Preprocessed.csv\")\n",
    "# remove the eg. for each items\n",
    "def remove_parentheses(text):\n",
    "    if isinstance(text, str):  \n",
    "        return re.sub(r\"\\s*\\(.*?\\)\", \"\", text)\n",
    "    return text  "
   ],
   "outputs": [],
   "execution_count": 1
  },
  {
   "cell_type": "code",
   "id": "91ee7d8f1f55725",
   "metadata": {
    "ExecuteTime": {
     "end_time": "2025-03-05T16:56:03.777295Z",
     "start_time": "2025-03-05T16:56:03.736856Z"
    }
   },
   "source": [
    "# Clean the columns data by removing the (eg. items) by using the regex\n",
    "columns_to_combine = [\"Preferred Swimming Pool Activities\", \"Preferred Beach Activities\", \"Preferred Spa and Wellness Activities\"]\n",
    "data[columns_to_combine] = data[columns_to_combine].applymap(remove_parentheses)\n",
    "\n",
    "# Combine all the columns\n",
    "data[\"Combined Activities\"] = data[columns_to_combine].apply(lambda x: ', '.join(x.dropna()), axis=1)\n",
    "\n",
    "# Convert the items into a transactional data \n",
    "transactions = data[\"Combined Activities\"].str.split(\",\").explode().str.strip().reset_index()\n",
    "transactions_encoded = transactions.pivot_table(index=\"index\", columns=\"Combined Activities\", aggfunc=lambda x: 1, fill_value=0)"
   ],
   "outputs": [
    {
     "name": "stderr",
     "output_type": "stream",
     "text": [
      "C:\\Users\\joaqu\\AppData\\Local\\Temp\\ipykernel_27384\\2987742297.py:3: FutureWarning: DataFrame.applymap has been deprecated. Use DataFrame.map instead.\n",
      "  data[columns_to_combine] = data[columns_to_combine].applymap(remove_parentheses)\n"
     ]
    }
   ],
   "execution_count": 2
  },
  {
   "cell_type": "code",
   "id": "11c674c4a8b048ab",
   "metadata": {
    "ExecuteTime": {
     "end_time": "2025-03-05T16:56:03.907436Z",
     "start_time": "2025-03-05T16:56:03.873742Z"
    }
   },
   "source": [
    "# Use Apriori algorithm to find frequent association\n",
    "frequent_items= apriori(transactions_encoded, min_support=0.2, use_colnames=True)# threshold 20%\n",
    "rule = association_rules(frequent_items)\n",
    "rule[['antecedents','consequents','support', 'confidence', 'lift']].sort_values(\"confidence\", ascending=False)"
   ],
   "outputs": [
    {
     "name": "stderr",
     "output_type": "stream",
     "text": [
      "C:\\Users\\joaqu\\anaconda3\\Lib\\site-packages\\mlxtend\\frequent_patterns\\fpcommon.py:161: DeprecationWarning: DataFrames with non-bool types result in worse computationalperformance and their support might be discontinued in the future.Please use a DataFrame with bool type\n",
      "  warnings.warn(\n"
     ]
    },
    {
     "data": {
      "text/plain": [
       "                                          antecedents  \\\n",
       "25                    (Beach Swimming, Spa Treatment)   \n",
       "19              (Play with Pool Toys, Beach Swimming)   \n",
       "71   (Massage Therapy, Beach Swimming, Spa Treatment)   \n",
       "39                         (Jetskiing, Spa Treatment)   \n",
       "78  (Sauna and Steam Rooms, Beach Swimming, Spa Tr...   \n",
       "..                                                ...   \n",
       "30                 (Kayaking/Paddling, Spa Treatment)   \n",
       "21                              (Play with Pool Toys)   \n",
       "82       (Jetskiing, Relaxing in Pool, Spa Treatment)   \n",
       "49  (Practice Actual Swimming Techniques, Massage ...   \n",
       "16           (Sauna and Steam Rooms, Massage Therapy)   \n",
       "\n",
       "                           consequents  support  confidence      lift  \n",
       "25                  (Relaxing in Pool)     0.31    0.968750  1.241987  \n",
       "19                  (Relaxing in Pool)     0.28    0.965517  1.237843  \n",
       "71                  (Relaxing in Pool)     0.27    0.964286  1.236264  \n",
       "39                  (Relaxing in Pool)     0.25    0.961538  1.232742  \n",
       "78                  (Relaxing in Pool)     0.23    0.958333  1.228632  \n",
       "..                                 ...      ...         ...       ...  \n",
       "30                         (Jetskiing)     0.21    0.807692  1.969981  \n",
       "21  (Relaxing in Pool, Beach Swimming)     0.28    0.800000  1.379310  \n",
       "82                 (Kayaking/Paddling)     0.20    0.800000  1.632653  \n",
       "49                     (Spa Treatment)     0.20    0.800000  1.904762  \n",
       "16                    (Beach Swimming)     0.24    0.800000  1.194030  \n",
       "\n",
       "[100 rows x 5 columns]"
      ],
      "text/html": [
       "<div>\n",
       "<style scoped>\n",
       "    .dataframe tbody tr th:only-of-type {\n",
       "        vertical-align: middle;\n",
       "    }\n",
       "\n",
       "    .dataframe tbody tr th {\n",
       "        vertical-align: top;\n",
       "    }\n",
       "\n",
       "    .dataframe thead th {\n",
       "        text-align: right;\n",
       "    }\n",
       "</style>\n",
       "<table border=\"1\" class=\"dataframe\">\n",
       "  <thead>\n",
       "    <tr style=\"text-align: right;\">\n",
       "      <th></th>\n",
       "      <th>antecedents</th>\n",
       "      <th>consequents</th>\n",
       "      <th>support</th>\n",
       "      <th>confidence</th>\n",
       "      <th>lift</th>\n",
       "    </tr>\n",
       "  </thead>\n",
       "  <tbody>\n",
       "    <tr>\n",
       "      <th>25</th>\n",
       "      <td>(Beach Swimming, Spa Treatment)</td>\n",
       "      <td>(Relaxing in Pool)</td>\n",
       "      <td>0.31</td>\n",
       "      <td>0.968750</td>\n",
       "      <td>1.241987</td>\n",
       "    </tr>\n",
       "    <tr>\n",
       "      <th>19</th>\n",
       "      <td>(Play with Pool Toys, Beach Swimming)</td>\n",
       "      <td>(Relaxing in Pool)</td>\n",
       "      <td>0.28</td>\n",
       "      <td>0.965517</td>\n",
       "      <td>1.237843</td>\n",
       "    </tr>\n",
       "    <tr>\n",
       "      <th>71</th>\n",
       "      <td>(Massage Therapy, Beach Swimming, Spa Treatment)</td>\n",
       "      <td>(Relaxing in Pool)</td>\n",
       "      <td>0.27</td>\n",
       "      <td>0.964286</td>\n",
       "      <td>1.236264</td>\n",
       "    </tr>\n",
       "    <tr>\n",
       "      <th>39</th>\n",
       "      <td>(Jetskiing, Spa Treatment)</td>\n",
       "      <td>(Relaxing in Pool)</td>\n",
       "      <td>0.25</td>\n",
       "      <td>0.961538</td>\n",
       "      <td>1.232742</td>\n",
       "    </tr>\n",
       "    <tr>\n",
       "      <th>78</th>\n",
       "      <td>(Sauna and Steam Rooms, Beach Swimming, Spa Tr...</td>\n",
       "      <td>(Relaxing in Pool)</td>\n",
       "      <td>0.23</td>\n",
       "      <td>0.958333</td>\n",
       "      <td>1.228632</td>\n",
       "    </tr>\n",
       "    <tr>\n",
       "      <th>...</th>\n",
       "      <td>...</td>\n",
       "      <td>...</td>\n",
       "      <td>...</td>\n",
       "      <td>...</td>\n",
       "      <td>...</td>\n",
       "    </tr>\n",
       "    <tr>\n",
       "      <th>30</th>\n",
       "      <td>(Kayaking/Paddling, Spa Treatment)</td>\n",
       "      <td>(Jetskiing)</td>\n",
       "      <td>0.21</td>\n",
       "      <td>0.807692</td>\n",
       "      <td>1.969981</td>\n",
       "    </tr>\n",
       "    <tr>\n",
       "      <th>21</th>\n",
       "      <td>(Play with Pool Toys)</td>\n",
       "      <td>(Relaxing in Pool, Beach Swimming)</td>\n",
       "      <td>0.28</td>\n",
       "      <td>0.800000</td>\n",
       "      <td>1.379310</td>\n",
       "    </tr>\n",
       "    <tr>\n",
       "      <th>82</th>\n",
       "      <td>(Jetskiing, Relaxing in Pool, Spa Treatment)</td>\n",
       "      <td>(Kayaking/Paddling)</td>\n",
       "      <td>0.20</td>\n",
       "      <td>0.800000</td>\n",
       "      <td>1.632653</td>\n",
       "    </tr>\n",
       "    <tr>\n",
       "      <th>49</th>\n",
       "      <td>(Practice Actual Swimming Techniques, Massage ...</td>\n",
       "      <td>(Spa Treatment)</td>\n",
       "      <td>0.20</td>\n",
       "      <td>0.800000</td>\n",
       "      <td>1.904762</td>\n",
       "    </tr>\n",
       "    <tr>\n",
       "      <th>16</th>\n",
       "      <td>(Sauna and Steam Rooms, Massage Therapy)</td>\n",
       "      <td>(Beach Swimming)</td>\n",
       "      <td>0.24</td>\n",
       "      <td>0.800000</td>\n",
       "      <td>1.194030</td>\n",
       "    </tr>\n",
       "  </tbody>\n",
       "</table>\n",
       "<p>100 rows × 5 columns</p>\n",
       "</div>"
      ]
     },
     "execution_count": 3,
     "metadata": {},
     "output_type": "execute_result"
    }
   ],
   "execution_count": 3
  },
  {
   "cell_type": "code",
   "id": "d0534e41-3728-4648-8838-619dcfdc7f53",
   "metadata": {
    "ExecuteTime": {
     "end_time": "2025-03-05T16:56:04.070884Z",
     "start_time": "2025-03-05T16:56:04.066463Z"
    }
   },
   "source": [],
   "outputs": [],
   "execution_count": null
  },
  {
   "cell_type": "code",
   "id": "90ba3117-700a-4d1f-bddb-a37fd9e8c6ed",
   "metadata": {
    "ExecuteTime": {
     "end_time": "2025-03-05T16:56:04.177387Z",
     "start_time": "2025-03-05T16:56:04.172724Z"
    }
   },
   "source": [],
   "outputs": [],
   "execution_count": null
  }
 ],
 "metadata": {
  "kernelspec": {
   "display_name": "Python [conda env:base] *",
   "language": "python",
   "name": "conda-base-py"
  },
  "language_info": {
   "codemirror_mode": {
    "name": "ipython",
    "version": 3
   },
   "file_extension": ".py",
   "mimetype": "text/x-python",
   "name": "python",
   "nbconvert_exporter": "python",
   "pygments_lexer": "ipython3",
   "version": "3.12.7"
  }
 },
 "nbformat": 4,
 "nbformat_minor": 5
}
