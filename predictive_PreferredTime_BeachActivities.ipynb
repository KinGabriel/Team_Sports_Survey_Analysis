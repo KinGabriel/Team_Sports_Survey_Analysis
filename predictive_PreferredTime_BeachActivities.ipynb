{
 "cells": [
  {
   "cell_type": "code",
   "execution_count": 1,
   "id": "initial_id",
   "metadata": {},
   "outputs": [],
   "source": [
    "import pandas as pd\n",
    "from mlxtend.frequent_patterns import apriori, association_rules\n",
    "data = pd.read_csv(\"Team_Sports_Survey_Preprocessed.csv\")"
   ]
  },
  {
   "cell_type": "code",
   "execution_count": 2,
   "id": "4e6abc55ba2b0686",
   "metadata": {},
   "outputs": [],
   "source": [
    "# Get the rows which preferred time is Afternoon\n",
    "# Split the values into a single items in the \"Preferred Check-in Days\" column\n",
    "data[\"Preferred Time for Beach Activities\"] = data[\"Preferred Time for Beach Activities\"].str.split(\", \")\n",
    "# Get only rows where Saturday or Sunday is in the dataset\n",
    "time_data = data[data[\"Preferred Time for Beach Activities\"].apply(lambda x: any(day in [\"Afternoon (12PM-5PM)\"] for day in x))]"
   ]
  },
  {
   "cell_type": "code",
   "execution_count": 3,
   "id": "247703bd1d497d18",
   "metadata": {},
   "outputs": [
    {
     "name": "stderr",
     "output_type": "stream",
     "text": [
      "C:\\Users\\joaqu\\AppData\\Local\\Temp\\ipykernel_20360\\361111327.py:2: SettingWithCopyWarning: \n",
      "A value is trying to be set on a copy of a slice from a DataFrame.\n",
      "Try using .loc[row_indexer,col_indexer] = value instead\n",
      "\n",
      "See the caveats in the documentation: https://pandas.pydata.org/pandas-docs/stable/user_guide/indexing.html#returning-a-view-versus-a-copy\n",
      "  time_data[\"Preferred Beach Activities\"] = time_data[\"Preferred Beach Activities\"].str.split(\",\")\n"
     ]
    }
   ],
   "source": [
    "# Split the values into a single items\n",
    "time_data[\"Preferred Beach Activities\"] = time_data[\"Preferred Beach Activities\"].str.split(\",\")\n",
    "\n",
    "# Convert the items into a transactional data \n",
    "transactions = time_data[\"Preferred Beach Activities\"].explode().str.strip().reset_index() \n",
    "transactions_encoded = transactions.pivot_table(index=\"index\", columns=\"Preferred Beach Activities\", aggfunc=lambda x: 1, fill_value=0) "
   ]
  },
  {
   "cell_type": "code",
   "execution_count": 4,
   "id": "11c674c4a8b048ab",
   "metadata": {},
   "outputs": [
    {
     "name": "stderr",
     "output_type": "stream",
     "text": [
      "C:\\Users\\joaqu\\anaconda3\\Lib\\site-packages\\mlxtend\\frequent_patterns\\fpcommon.py:161: DeprecationWarning: DataFrames with non-bool types result in worse computationalperformance and their support might be discontinued in the future.Please use a DataFrame with bool type\n",
      "  warnings.warn(\n"
     ]
    },
    {
     "data": {
      "text/html": [
       "<div>\n",
       "<style scoped>\n",
       "    .dataframe tbody tr th:only-of-type {\n",
       "        vertical-align: middle;\n",
       "    }\n",
       "\n",
       "    .dataframe tbody tr th {\n",
       "        vertical-align: top;\n",
       "    }\n",
       "\n",
       "    .dataframe thead th {\n",
       "        text-align: right;\n",
       "    }\n",
       "</style>\n",
       "<table border=\"1\" class=\"dataframe\">\n",
       "  <thead>\n",
       "    <tr style=\"text-align: right;\">\n",
       "      <th></th>\n",
       "      <th>antecedents</th>\n",
       "      <th>consequents</th>\n",
       "      <th>support</th>\n",
       "      <th>confidence</th>\n",
       "      <th>lift</th>\n",
       "    </tr>\n",
       "  </thead>\n",
       "  <tbody>\n",
       "    <tr>\n",
       "      <th>0</th>\n",
       "      <td>(Surfboarding)</td>\n",
       "      <td>(Jetskiing)</td>\n",
       "      <td>0.346939</td>\n",
       "      <td>0.894737</td>\n",
       "      <td>1.623782</td>\n",
       "    </tr>\n",
       "    <tr>\n",
       "      <th>1</th>\n",
       "      <td>(Snorkeling/Scuba Diving, Jetskiing)</td>\n",
       "      <td>(Kayaking/Paddling)</td>\n",
       "      <td>0.306122</td>\n",
       "      <td>0.882353</td>\n",
       "      <td>1.490872</td>\n",
       "    </tr>\n",
       "  </tbody>\n",
       "</table>\n",
       "</div>"
      ],
      "text/plain": [
       "                            antecedents          consequents   support  \\\n",
       "0                        (Surfboarding)          (Jetskiing)  0.346939   \n",
       "1  (Snorkeling/Scuba Diving, Jetskiing)  (Kayaking/Paddling)  0.306122   \n",
       "\n",
       "   confidence      lift  \n",
       "0    0.894737  1.623782  \n",
       "1    0.882353  1.490872  "
      ]
     },
     "execution_count": 4,
     "metadata": {},
     "output_type": "execute_result"
    }
   ],
   "source": [
    "# Use Apriori algorithm to find frequent association\n",
    "frequent_items= apriori(transactions_encoded, min_support=0.3, use_colnames=True)\n",
    "rule = association_rules(frequent_items)\n",
    "rule[['antecedents','consequents','support', 'confidence', 'lift']].sort_values(\"confidence\", ascending=False)"
   ]
  },
  {
   "cell_type": "code",
   "execution_count": null,
   "id": "d0534e41-3728-4648-8838-619dcfdc7f53",
   "metadata": {},
   "outputs": [],
   "source": []
  }
 ],
 "metadata": {
  "kernelspec": {
   "display_name": "Python [conda env:base] *",
   "language": "python",
   "name": "conda-base-py"
  },
  "language_info": {
   "codemirror_mode": {
    "name": "ipython",
    "version": 3
   },
   "file_extension": ".py",
   "mimetype": "text/x-python",
   "name": "python",
   "nbconvert_exporter": "python",
   "pygments_lexer": "ipython3",
   "version": "3.12.7"
  }
 },
 "nbformat": 4,
 "nbformat_minor": 5
}
