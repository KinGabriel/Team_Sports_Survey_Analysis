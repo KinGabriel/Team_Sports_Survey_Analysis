{
 "cells": [
  {
   "cell_type": "code",
   "id": "initial_id",
   "metadata": {
    "ExecuteTime": {
     "end_time": "2025-03-05T16:27:10.737981Z",
     "start_time": "2025-03-05T16:27:09.980601Z"
    }
   },
   "source": [
    "import pandas as pd\n",
    "import re\n",
    "from mlxtend.frequent_patterns import apriori, association_rules\n",
    "data = pd.read_csv(\"Team_Sports_Survey_Preprocessed.csv\")\n",
    "# remove the eg. for each items\n",
    "def remove_parentheses(text):\n",
    "    if isinstance(text, str):  \n",
    "        return re.sub(r\"\\s*\\(.*?\\)\", \"\", text)\n",
    "    return text  "
   ],
   "outputs": [],
   "execution_count": 1
  },
  {
   "cell_type": "code",
   "id": "ebd657bc00aac29e",
   "metadata": {
    "ExecuteTime": {
     "end_time": "2025-03-05T16:27:10.759526Z",
     "start_time": "2025-03-05T16:27:10.754439Z"
    }
   },
   "source": "",
   "outputs": [],
   "execution_count": null
  },
  {
   "cell_type": "code",
   "id": "91ee7d8f1f55725",
   "metadata": {
    "ExecuteTime": {
     "end_time": "2025-03-05T16:27:10.894465Z",
     "start_time": "2025-03-05T16:27:10.872133Z"
    }
   },
   "source": [
    "# Split the values into a single items\n",
    "data[\"Preferred Spa and Wellness Activities\"] =data[\"Preferred Spa and Wellness Activities\"].apply(remove_parentheses).str.split(\",\")  \n",
    "\n",
    "# Convert the items into a transactional data \n",
    "transactions = data[\"Preferred Spa and Wellness Activities\"].explode().str.strip().reset_index() \n",
    "transactions_encoded = transactions.pivot_table(index=\"index\", columns=\"Preferred Spa and Wellness Activities\", aggfunc=lambda x: 1, fill_value=0) "
   ],
   "outputs": [],
   "execution_count": 2
  },
  {
   "cell_type": "code",
   "id": "11c674c4a8b048ab",
   "metadata": {
    "ExecuteTime": {
     "end_time": "2025-03-05T16:27:10.942870Z",
     "start_time": "2025-03-05T16:27:10.915635Z"
    }
   },
   "source": [
    "# Use Apriori algorithm to find frequent association\n",
    "frequent_items= apriori(transactions_encoded, min_support=0.3, use_colnames=True)# threshold 30%\n",
    "rule = association_rules(frequent_items)\n",
    "rule[['antecedents','consequents','support', 'confidence', 'lift']].sort_values(\"confidence\", ascending=False)"
   ],
   "outputs": [
    {
     "name": "stderr",
     "output_type": "stream",
     "text": [
      "C:\\Users\\joaqu\\anaconda3\\Lib\\site-packages\\mlxtend\\frequent_patterns\\fpcommon.py:161: DeprecationWarning: DataFrames with non-bool types result in worse computationalperformance and their support might be discontinued in the future.Please use a DataFrame with bool type\n",
      "  warnings.warn(\n"
     ]
    },
    {
     "data": {
      "text/plain": [
       "                                antecedents        consequents   support  \\\n",
       "1    (Sauna and Steam Rooms, Spa Treatment)  (Massage Therapy)  0.400000   \n",
       "0                           (Spa Treatment)  (Massage Therapy)  0.569231   \n",
       "2  (Sauna and Steam Rooms, Massage Therapy)    (Spa Treatment)  0.400000   \n",
       "\n",
       "   confidence      lift  \n",
       "1    0.896552  1.165517  \n",
       "0    0.880952  1.145238  \n",
       "2    0.866667  1.341270  "
      ],
      "text/html": [
       "<div>\n",
       "<style scoped>\n",
       "    .dataframe tbody tr th:only-of-type {\n",
       "        vertical-align: middle;\n",
       "    }\n",
       "\n",
       "    .dataframe tbody tr th {\n",
       "        vertical-align: top;\n",
       "    }\n",
       "\n",
       "    .dataframe thead th {\n",
       "        text-align: right;\n",
       "    }\n",
       "</style>\n",
       "<table border=\"1\" class=\"dataframe\">\n",
       "  <thead>\n",
       "    <tr style=\"text-align: right;\">\n",
       "      <th></th>\n",
       "      <th>antecedents</th>\n",
       "      <th>consequents</th>\n",
       "      <th>support</th>\n",
       "      <th>confidence</th>\n",
       "      <th>lift</th>\n",
       "    </tr>\n",
       "  </thead>\n",
       "  <tbody>\n",
       "    <tr>\n",
       "      <th>1</th>\n",
       "      <td>(Sauna and Steam Rooms, Spa Treatment)</td>\n",
       "      <td>(Massage Therapy)</td>\n",
       "      <td>0.400000</td>\n",
       "      <td>0.896552</td>\n",
       "      <td>1.165517</td>\n",
       "    </tr>\n",
       "    <tr>\n",
       "      <th>0</th>\n",
       "      <td>(Spa Treatment)</td>\n",
       "      <td>(Massage Therapy)</td>\n",
       "      <td>0.569231</td>\n",
       "      <td>0.880952</td>\n",
       "      <td>1.145238</td>\n",
       "    </tr>\n",
       "    <tr>\n",
       "      <th>2</th>\n",
       "      <td>(Sauna and Steam Rooms, Massage Therapy)</td>\n",
       "      <td>(Spa Treatment)</td>\n",
       "      <td>0.400000</td>\n",
       "      <td>0.866667</td>\n",
       "      <td>1.341270</td>\n",
       "    </tr>\n",
       "  </tbody>\n",
       "</table>\n",
       "</div>"
      ]
     },
     "execution_count": 3,
     "metadata": {},
     "output_type": "execute_result"
    }
   ],
   "execution_count": 3
  },
  {
   "cell_type": "code",
   "id": "d0534e41-3728-4648-8838-619dcfdc7f53",
   "metadata": {
    "ExecuteTime": {
     "end_time": "2025-03-05T16:27:11.092433Z",
     "start_time": "2025-03-05T16:27:11.088401Z"
    }
   },
   "source": [],
   "outputs": [],
   "execution_count": null
  },
  {
   "cell_type": "code",
   "id": "90ba3117-700a-4d1f-bddb-a37fd9e8c6ed",
   "metadata": {
    "ExecuteTime": {
     "end_time": "2025-03-05T16:27:11.174589Z",
     "start_time": "2025-03-05T16:27:11.171144Z"
    }
   },
   "source": [],
   "outputs": [],
   "execution_count": null
  }
 ],
 "metadata": {
  "kernelspec": {
   "display_name": "Python [conda env:base] *",
   "language": "python",
   "name": "conda-base-py"
  },
  "language_info": {
   "codemirror_mode": {
    "name": "ipython",
    "version": 3
   },
   "file_extension": ".py",
   "mimetype": "text/x-python",
   "name": "python",
   "nbconvert_exporter": "python",
   "pygments_lexer": "ipython3",
   "version": "3.12.7"
  }
 },
 "nbformat": 4,
 "nbformat_minor": 5
}
