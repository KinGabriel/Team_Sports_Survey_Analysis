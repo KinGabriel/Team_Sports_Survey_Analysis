{
 "cells": [
  {
   "metadata": {},
   "cell_type": "code",
   "outputs": [],
   "execution_count": null,
   "source": [
    "import pandas as pd\n",
    "import numpy as np"
   ],
   "id": "cc9b3893996f81a5"
  },
  {
   "metadata": {},
   "cell_type": "code",
   "outputs": [],
   "execution_count": null,
   "source": [
    "data = pd.read_csv('Team_Sports_Survey.csv')\n",
    "data"
   ],
   "id": "80b97f79fea8e099"
  },
  {
   "metadata": {},
   "cell_type": "code",
   "outputs": [],
   "execution_count": null,
   "source": [
    "# Rename Columns\n",
    "data.rename(\n",
    "    columns={\n",
    "        data.columns[6]: 'First Preferred Activity Upon Resort Booking',\n",
    "        data.columns[7]: 'Chosen Activities',\n",
    "        data.columns[8]: 'Expected Time at Swimming Pool',\n",
    "        data.columns[9]: 'Expected Time at Beach',\n",
    "        data.columns[10]: 'Expected Time in Recreational Room',\n",
    "        data.columns[11]: 'Expected Time at Spa and Wellness',\n",
    "        data.columns[12]: 'Expected Time at Gym and Training Area',\n",
    "        data.columns[13]: 'Expected Time at Sports Center',\n",
    "        data.columns[14]: 'Preferred Swimming Pool Activities',\n",
    "        data.columns[15]: 'Top Priority Swimming Pool Activity',\n",
    "        data.columns[16]: 'Expected Shower Room Items (For Swimming Participants)',\n",
    "        data.columns[17]: 'Preferred Beach Activities',\n",
    "        data.columns[18]: 'Top Priority Beach Activity',\n",
    "        data.columns[19]: 'Preferred Recreational Room Activities',\n",
    "        data.columns[20]: 'Top Priority Recreational Room Activity',\n",
    "        data.columns[21]: 'Preferred Spa and Wellness Activities',\n",
    "        data.columns[22]: 'Top Priority Spa and Wellness Activity',\n",
    "        data.columns[23]: 'Preferred Gym and Training Activities',\n",
    "        data.columns[24]: 'Top Priority Gym and Training Activity',\n",
    "        data.columns[25]: 'Preferred Sports Center Activities',\n",
    "        data.columns[26]: 'Top Priority Sports Center Activity',\n",
    "        data.columns[27]: 'Preferred Check-in Days',\n",
    "        data.columns[28]: 'Number of Companions',\n",
    "        data.columns[29]: 'Willingness to Pay Separate Entrance Fees',\n",
    "        data.columns[30]: 'Maximum Wait Time for Swimming Pool',\n",
    "        data.columns[31]: 'Maximum Wait Time for Beach',\n",
    "        data.columns[32]: 'Maximum Wait Time for Recreational Room',\n",
    "        data.columns[33]: 'Maximum Wait Time for Spa and Wellness',\n",
    "        data.columns[34]: 'Maximum Wait Time for Gym and Training Area',\n",
    "        data.columns[35]: 'Maximum Wait Time for Sports Center',\n",
    "        data.columns[36]: 'Post-Recreational Activity',\n",
    "        data.columns[37]: 'Preferred Time for Swimming Pool Activities',\n",
    "        data.columns[38]: 'Preferred Time for Beach Activities',\n",
    "        data.columns[39]: 'Preferred Time for Recreational Room Activities',\n",
    "        data.columns[40]: 'Preferred Time for Spa and Wellness Activities',\n",
    "        data.columns[41]: 'Preferred Time for Gym and Training Activities',\n",
    "        data.columns[42]: 'Preferred Time for Sports Center Activities',\n",
    "        data.columns[43]: 'Snack and Beverage Consumption During Activities',\n",
    "        data.columns[44]: 'Preferred Snacks During Activities',\n",
    "        data.columns[45]: 'Preferred Beverage During Activities'\n",
    "    }, inplace=True\n",
    ")\n",
    "data"
   ],
   "id": "7750bde6e1ea6d6f"
  },
  {
   "metadata": {},
   "cell_type": "code",
   "outputs": [],
   "execution_count": null,
   "source": [
    "# Define columns with time-related data\n",
    "time_columns = [\n",
    "    'Expected Time at Swimming Pool', 'Expected Time at Beach', 'Expected Time in Recreational Room',\n",
    "    'Expected Time at Spa and Wellness', 'Expected Time at Gym and Training Area',\n",
    "    'Expected Time at Sports Center', 'Preferred Time for Swimming Pool Activities',\n",
    "    'Preferred Time for Beach Activities', 'Preferred Time for Recreational Room Activities',\n",
    "    'Preferred Time for Spa and Wellness Activities', 'Preferred Time for Gym and Training Activities',\n",
    "    'Preferred Time for Sports Center Activities'\n",
    "]\n",
    "\n",
    "# Replace \"12AM\" with \"12PM\" in the specified columns, considering cases where it appears inside a range\n",
    "data[time_columns] = data[time_columns].apply(lambda x: x.str.replace(\"12AM\", \"12PM\", regex=True))\n",
    "\n",
    "data"
   ],
   "id": "6fe97d086528bcb3"
  },
  {
   "metadata": {},
   "cell_type": "code",
   "outputs": [],
   "execution_count": null,
   "source": [
    "# Organize the columns into logical groups\n",
    "column_order = [\n",
    "    # Demographics\n",
    "    'Gender', 'Occupational Status', 'Marital Status', 'Age Group', 'Monthly Income (Php)',\n",
    "    \n",
    "    # Booking Preferences\n",
    "    'First Preferred Activity Upon Resort Booking', 'Chosen Activities',\n",
    "    \n",
    "    # Expected Time at Facilities\n",
    "    'Expected Time at Swimming Pool', 'Expected Time at Beach', 'Expected Time in Recreational Room',\n",
    "    'Expected Time at Spa and Wellness', 'Expected Time at Gym and Training Area', 'Expected Time at Sports Center',\n",
    "    \n",
    "    # Preferred Activities by Facility\n",
    "    'Preferred Swimming Pool Activities', 'Top Priority Swimming Pool Activity',\n",
    "    'Preferred Beach Activities', 'Top Priority Beach Activity',\n",
    "    'Preferred Recreational Room Activities', 'Top Priority Recreational Room Activity',\n",
    "    'Preferred Spa and Wellness Activities', 'Top Priority Spa and Wellness Activity',\n",
    "    'Preferred Gym and Training Activities', 'Top Priority Gym and Training Activity',\n",
    "    'Preferred Sports Center Activities', 'Top Priority Sports Center Activity',\n",
    "    \n",
    "    # Facility Usage Preferences\n",
    "    'Preferred Check-in Days', 'Number of Companions', 'Willingness to Pay Separate Entrance Fees',\n",
    "    \n",
    "    # Maximum Wait Times\n",
    "    'Maximum Wait Time for Swimming Pool', 'Maximum Wait Time for Beach', 'Maximum Wait Time for Recreational Room',\n",
    "    'Maximum Wait Time for Spa and Wellness', 'Maximum Wait Time for Gym and Training Area', 'Maximum Wait Time for Sports Center',\n",
    "    \n",
    "    # Post-Activity Preferences\n",
    "    'Post-Recreational Activity',\n",
    "    \n",
    "    # Preferred Time for Activities\n",
    "    'Preferred Time for Swimming Pool Activities', 'Preferred Time for Beach Activities', 'Preferred Time for Recreational Room Activities',\n",
    "    'Preferred Time for Spa and Wellness Activities', 'Preferred Time for Gym and Training Activities', 'Preferred Time for Sports Center Activities',\n",
    "    \n",
    "    # Snacks and Beverages\n",
    "    'Snack and Beverage Consumption During Activities', 'Preferred Snacks During Activities', 'Preferred Beverage During Activities',\n",
    "    \n",
    "    # Additional Preferences\n",
    "    'Expected Shower Room Items (For Swimming Participants)'\n",
    "]\n",
    "\n",
    "# Reorder the dataset columns\n",
    "data = data[column_order]\n",
    "\n",
    "data"
   ],
   "id": "521a26217a9db6d6"
  },
  {
   "metadata": {},
   "cell_type": "code",
   "outputs": [],
   "execution_count": null,
   "source": [
    "# Modify Age Group column to replace words with symbols\n",
    "data.loc[:, 'Age Group'] = data['Age Group'].str.replace(\"and below\", \"<\", regex=False)\n",
    "data.loc[:, 'Age Group'] = data['Age Group'].str.replace(\"and above\", \">\", regex=False)\n",
    "\n",
    "data"
   ],
   "id": "376c32598f4e032c"
  },
  {
   "metadata": {},
   "cell_type": "code",
   "outputs": [],
   "execution_count": null,
   "source": [
    "# Modify Monthly Income (Php) column to replace words with symbols\n",
    "data.loc[:, 'Monthly Income (Php)'] = data['Monthly Income (Php)'].str.replace(\"Less than\", \"<\", regex=False)\n",
    "\n",
    "data"
   ],
   "id": "58edbf028600c5fe"
  },
  {
   "metadata": {},
   "cell_type": "code",
   "outputs": [],
   "execution_count": null,
   "source": [
    "#For identifying which columns have empty values\n",
    "columns_with_empty_values = data.isna().any(axis=0) | (data == '').any(axis=0)\n",
    "\n",
    "print(\"Columns with empty values:\")\n",
    "print(columns_with_empty_values)"
   ],
   "id": "78ee25d50401d4ab"
  },
  {
   "metadata": {},
   "cell_type": "code",
   "outputs": [],
   "execution_count": null,
   "source": [
    "#Impute 'none' for activity and item columns\n",
    "data.fillna({'Preferred Swimming Pool Activities': 'None', 'Top Priority Swimming Pool Activity': 'None','Preferred Beach Activities':'None','Top Priority Beach Activity':'None','Preferred Recreational Room Activities':'None','Top Priority Recreational Room Activity':'None','Preferred Spa and Wellness Activities':'None','Top Priority Spa and Wellness Activity':'None','Preferred Gym and Training Activities':'None','Top Priority Gym and Training Activity':'None','Preferred Sports Center Activities':'None','Top Priority Sports Center Activity':'None','Post-Recreational Activity':'None','Preferred Snacks During Activities':'None','Preferred Beverage During Activities':'None','Expected Shower Room Items (For Swimming Participants)':'None'}, inplace=True)\n",
    "data"
   ],
   "id": "ed5cd2393907e7c2"
  },
  {
   "metadata": {},
   "cell_type": "code",
   "outputs": [],
   "execution_count": null,
   "source": [
    "#Replace values in preferred snacks and preferred beverages if they answered No in consuming snacks and beverage during activities\n",
    "data.loc[data['Snack and Beverage Consumption During Activities'] == 'No', ['Preferred Snacks During Activities','Preferred Beverage During Activities']] = 'N/A'\n",
    "data\n",
    "\n"
   ],
   "id": "1bf0464c78581c4b"
  },
  {
   "metadata": {},
   "cell_type": "code",
   "outputs": [],
   "execution_count": null,
   "source": [
    "#Impute '0' for time columns\n",
    "data.fillna({'Expected Time at Swimming Pool':0, 'Expected Time at Beach':0,'Expected Time in Recreational Room':0,'Expected Time at Spa and Wellness':0,'Expected Time at Gym and Training Area':0,'Expected Time at Sports Center':0,'Maximum Wait Time for Swimming Pool':0,'Maximum Wait Time for Beach':0,'Maximum Wait Time for Recreational Room':0,'Maximum Wait Time for Spa and Wellness':0,'Maximum Wait Time for Gym and Training Area':0,'Maximum Wait Time for Sports Center':0}, inplace=True)\n",
    "data"
   ],
   "id": "5311c5ecc1a3e46b"
  },
  {
   "metadata": {},
   "cell_type": "code",
   "outputs": [],
   "execution_count": null,
   "source": [
    "# Drop the columns that will not be used for the descriptive and predictive analysis\n",
    "data.drop(columns=[\n",
    "    \"Occupational Status\", \"Marital Status\", \"Recreational Room\",\n",
    "    \"Gym and Training Area\", \"Sports Center\",\n",
    "    \"Preferred Recreational Room Activities\", \"Top Priority Recreational Room Activity\",\n",
    "    \"Preferred Gym and Training Activities\", \"Top Priority Gym and Training Activity\",\n",
    "    \"Preferred Sports Center Activities\", \"Top Priority Sports Center Activity\",\n",
    "    \"Post-Recreational Activity\",\n",
    "    \"Preferred Time for Recreational Room Activities\", \"Preferred Time for Gym and Training Activities\",\n",
    "    \"Preferred Time for Sports Center Activities\",\n",
    "    \"Maximum Wait Time for Recreational Room\", \"Maximum Wait Time for Gym and Training Area\",\n",
    "    \"Maximum Wait Time for Sports Center\",\n",
    "    \"Expected Time in Recreational Room\", \"Expected Time at Gym and Training Area\",\n",
    "    \"Expected Time at Sports Center\"\n",
    "], errors='ignore', inplace=True)\n",
    "data"
   ],
   "id": "4a3cb0653db7caf3"
  },
  {
   "metadata": {},
   "cell_type": "code",
   "outputs": [],
   "execution_count": null,
   "source": [
    "# Save the preprocessed data to a new CSV file\n",
    "data.to_csv('Team_Sports_Survey_Corrected.csv', index=False)"
   ],
   "id": "86e1c56838a193e3"
  },
  {
   "metadata": {
    "ExecuteTime": {
     "end_time": "2025-03-04T08:24:41.776934Z",
     "start_time": "2025-03-04T08:24:41.765402Z"
    }
   },
   "cell_type": "code",
   "source": [
    "# Change the value of 'Preferred Snacks During Activities' column and 'Preferred Beverage During Activities' column to N/A if the value is No in column 'Snack and Beverage Consumption During Activities' due to inaccuracy in the survey\n",
    "data.loc[data['Snack and Beverage Consumption During Activities'] == 'No', ['Preferred Snacks During Activities','Preferred Beverage During Activities']] = 'N/A'\n",
    "data.to_csv('Team_Sports_Survey_Corrected.csv', index=False)"
   ],
   "id": "12a2f821d116c68b",
   "outputs": [],
   "execution_count": 38
  }
 ],
 "metadata": {
  "kernelspec": {
   "display_name": "Python [conda env:base] *",
   "language": "python",
   "name": "conda-base-py"
  },
  "language_info": {
   "codemirror_mode": {
    "name": "ipython",
    "version": 3
   },
   "file_extension": ".py",
   "mimetype": "text/x-python",
   "name": "python",
   "nbconvert_exporter": "python",
   "pygments_lexer": "ipython3",
   "version": "3.12.7"
  }
 },
 "nbformat": 4,
 "nbformat_minor": 5
}
