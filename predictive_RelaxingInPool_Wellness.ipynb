{
 "cells": [
  {
   "cell_type": "code",
   "execution_count": 1,
   "id": "initial_id",
   "metadata": {},
   "outputs": [],
   "source": [
    "import pandas as pd\n",
    "import re\n",
    "from mlxtend.frequent_patterns import apriori, association_rules\n",
    "data = pd.read_csv(\"Team_Sports_Survey_Preprocessed.csv\")\n",
    "# remove the eg. for each items\n",
    "def remove_parentheses(text):\n",
    "    if isinstance(text, str):  \n",
    "        return re.sub(r\"\\s*\\(.*?\\)\", \"\", text)\n",
    "    return text  "
   ]
  },
  {
   "cell_type": "code",
   "execution_count": 2,
   "id": "ebd657bc00aac29e",
   "metadata": {},
   "outputs": [],
   "source": [
    "# Get the rows which preferred swimming pool activity which is relaxing in pool\n",
    "# Split the values into a single items in the \"Preferred Swimming Pool Activities\"\n",
    "data[\"Preferred Swimming Pool Activities\"] = data[\"Preferred Swimming Pool Activities\"].astype(str).apply(remove_parentheses).str.split(\", \")\n",
    "# Get only rows where Relaxing in Pool is in the dataset\n",
    "pool_act = data[data[\"Preferred Swimming Pool Activities\"].apply(lambda x: \"Relaxing in Pool\" in x)]"
   ]
  },
  {
   "cell_type": "code",
   "execution_count": 3,
   "id": "91ee7d8f1f55725",
   "metadata": {},
   "outputs": [
    {
     "name": "stderr",
     "output_type": "stream",
     "text": [
      "C:\\Users\\joaqu\\AppData\\Local\\Temp\\ipykernel_2260\\2748023349.py:2: SettingWithCopyWarning: \n",
      "A value is trying to be set on a copy of a slice from a DataFrame.\n",
      "Try using .loc[row_indexer,col_indexer] = value instead\n",
      "\n",
      "See the caveats in the documentation: https://pandas.pydata.org/pandas-docs/stable/user_guide/indexing.html#returning-a-view-versus-a-copy\n",
      "  pool_act[\"Preferred Spa and Wellness Activities\"] =pool_act[\"Preferred Spa and Wellness Activities\"].apply(remove_parentheses).str.split(\",\")\n"
     ]
    }
   ],
   "source": [
    "# Split the values into a single items\n",
    "pool_act[\"Preferred Spa and Wellness Activities\"] =pool_act[\"Preferred Spa and Wellness Activities\"].apply(remove_parentheses).str.split(\",\")  \n",
    "\n",
    "# Convert the items into a transactional data \n",
    "transactions = pool_act[\"Preferred Spa and Wellness Activities\"].explode().str.strip().reset_index() \n",
    "transactions_encoded = transactions.pivot_table(index=\"index\", columns=\"Preferred Spa and Wellness Activities\", aggfunc=lambda x: 1, fill_value=0) "
   ]
  },
  {
   "cell_type": "code",
   "execution_count": 4,
   "id": "11c674c4a8b048ab",
   "metadata": {},
   "outputs": [
    {
     "name": "stderr",
     "output_type": "stream",
     "text": [
      "C:\\Users\\joaqu\\anaconda3\\Lib\\site-packages\\mlxtend\\frequent_patterns\\fpcommon.py:161: DeprecationWarning: DataFrames with non-bool types result in worse computationalperformance and their support might be discontinued in the future.Please use a DataFrame with bool type\n",
      "  warnings.warn(\n"
     ]
    },
    {
     "data": {
      "text/html": [
       "<div>\n",
       "<style scoped>\n",
       "    .dataframe tbody tr th:only-of-type {\n",
       "        vertical-align: middle;\n",
       "    }\n",
       "\n",
       "    .dataframe tbody tr th {\n",
       "        vertical-align: top;\n",
       "    }\n",
       "\n",
       "    .dataframe thead th {\n",
       "        text-align: right;\n",
       "    }\n",
       "</style>\n",
       "<table border=\"1\" class=\"dataframe\">\n",
       "  <thead>\n",
       "    <tr style=\"text-align: right;\">\n",
       "      <th></th>\n",
       "      <th>antecedents</th>\n",
       "      <th>consequents</th>\n",
       "      <th>support</th>\n",
       "      <th>confidence</th>\n",
       "      <th>lift</th>\n",
       "    </tr>\n",
       "  </thead>\n",
       "  <tbody>\n",
       "    <tr>\n",
       "      <th>2</th>\n",
       "      <td>(Sauna and Steam Rooms, Massage Therapy)</td>\n",
       "      <td>(Spa Treatment)</td>\n",
       "      <td>0.418182</td>\n",
       "      <td>0.884615</td>\n",
       "      <td>1.247535</td>\n",
       "    </tr>\n",
       "    <tr>\n",
       "      <th>3</th>\n",
       "      <td>(Sauna and Steam Rooms, Spa Treatment)</td>\n",
       "      <td>(Massage Therapy)</td>\n",
       "      <td>0.418182</td>\n",
       "      <td>0.884615</td>\n",
       "      <td>1.186679</td>\n",
       "    </tr>\n",
       "    <tr>\n",
       "      <th>1</th>\n",
       "      <td>(Spa Treatment)</td>\n",
       "      <td>(Massage Therapy)</td>\n",
       "      <td>0.618182</td>\n",
       "      <td>0.871795</td>\n",
       "      <td>1.169481</td>\n",
       "    </tr>\n",
       "    <tr>\n",
       "      <th>0</th>\n",
       "      <td>(Massage Therapy)</td>\n",
       "      <td>(Spa Treatment)</td>\n",
       "      <td>0.618182</td>\n",
       "      <td>0.829268</td>\n",
       "      <td>1.169481</td>\n",
       "    </tr>\n",
       "  </tbody>\n",
       "</table>\n",
       "</div>"
      ],
      "text/plain": [
       "                                antecedents        consequents   support  \\\n",
       "2  (Sauna and Steam Rooms, Massage Therapy)    (Spa Treatment)  0.418182   \n",
       "3    (Sauna and Steam Rooms, Spa Treatment)  (Massage Therapy)  0.418182   \n",
       "1                           (Spa Treatment)  (Massage Therapy)  0.618182   \n",
       "0                         (Massage Therapy)    (Spa Treatment)  0.618182   \n",
       "\n",
       "   confidence      lift  \n",
       "2    0.884615  1.247535  \n",
       "3    0.884615  1.186679  \n",
       "1    0.871795  1.169481  \n",
       "0    0.829268  1.169481  "
      ]
     },
     "execution_count": 4,
     "metadata": {},
     "output_type": "execute_result"
    }
   ],
   "source": [
    "# Use Apriori algorithm to find frequent association\n",
    "frequent_items= apriori(transactions_encoded, min_support=0.3, use_colnames=True)# threshold 30%\n",
    "rule = association_rules(frequent_items)\n",
    "rule[['antecedents','consequents','support', 'confidence', 'lift']].sort_values(\"confidence\", ascending=False)"
   ]
  },
  {
   "cell_type": "code",
   "execution_count": null,
   "id": "d0534e41-3728-4648-8838-619dcfdc7f53",
   "metadata": {},
   "outputs": [],
   "source": []
  },
  {
   "cell_type": "code",
   "execution_count": null,
   "id": "90ba3117-700a-4d1f-bddb-a37fd9e8c6ed",
   "metadata": {},
   "outputs": [],
   "source": []
  }
 ],
 "metadata": {
  "kernelspec": {
   "display_name": "Python [conda env:base] *",
   "language": "python",
   "name": "conda-base-py"
  },
  "language_info": {
   "codemirror_mode": {
    "name": "ipython",
    "version": 3
   },
   "file_extension": ".py",
   "mimetype": "text/x-python",
   "name": "python",
   "nbconvert_exporter": "python",
   "pygments_lexer": "ipython3",
   "version": "3.12.7"
  }
 },
 "nbformat": 4,
 "nbformat_minor": 5
}
